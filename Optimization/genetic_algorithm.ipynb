{
 "cells": [
  {
   "cell_type": "markdown",
   "metadata": {},
   "source": [
    "Genetic Algorithm\n",
    "======="
   ]
  },
  {
   "cell_type": "markdown",
   "metadata": {},
   "source": [
    "# Theory\n",
    "\n",
    "## Definition\n",
    "\n",
    "\n",
    "## Examples\n"
   ]
  },
  {
   "cell_type": "markdown",
   "metadata": {},
   "source": [
    "# Implementation\n"
   ]
  },
  {
   "cell_type": "markdown",
   "metadata": {},
   "source": [
    "## Imports"
   ]
  },
  {
   "cell_type": "code",
   "execution_count": 2,
   "metadata": {},
   "outputs": [],
   "source": [
    "import matplotlib\n",
    "import numpy as np\n",
    "import pandas as pd\n",
    "from typing import Callable\n",
    "import matplotlib.pyplot as plt\n",
    "matplotlib.rcParams['animation.embed_limit'] = 2**128"
   ]
  },
  {
   "cell_type": "markdown",
   "metadata": {},
   "source": [
    "## Parameters"
   ]
  },
  {
   "cell_type": "code",
   "execution_count": 3,
   "metadata": {},
   "outputs": [],
   "source": [
    "# cost function and neighbor sampling\n",
    "cost_func = lambda x : 30*np.sin(x) + x**2                    # function to optimize\n",
    "get_neighbor = lambda x : x + np.random.uniform(-5,5)         # sample neighbor from the neighborhood of x\n",
    "x_0 = 2.5                                                     # starting value search\n",
    "\n",
    "# cooling schedule\n",
    "cooling_func = lambda t : 1000*np.exp(-0.7*t)                 # temperature decay function\n",
    "cooling_window = [0,20]                                       # cooling function domain"
   ]
  },
  {
   "cell_type": "markdown",
   "metadata": {},
   "source": [
    "## Algorithm\n"
   ]
  },
  {
   "cell_type": "code",
   "execution_count": 4,
   "metadata": {},
   "outputs": [],
   "source": [
    "def GA(cost_func: Callable, sample_neighbor: Callable, x_0: float, maxiter: int = int(5e2), task: str = \"minimization\") -> tuple[float, list, int]:\n",
    "    '''\n",
    "    '''\n",
    "\n",
    "    \n",
    "    # unpack arguments\n",
    "    factor = -1 if task == \"maximization\" else 1 \n",
    "\n",
    "    # algorithm data\n",
    "    cost = [cost_func(x_0)]\n",
    "    accepted_samples = 0\n",
    "    x = [x_0]\n",
    "\n",
    "\n",
    "    for i in range(maxiter-1):\n",
    "        \n",
    "        # place holder\n",
    "\n"
   ]
  },
  {
   "cell_type": "markdown",
   "metadata": {},
   "source": [
    "## Results Visualization & Behaver Analysis\n"
   ]
  },
  {
   "cell_type": "code",
   "execution_count": null,
   "metadata": {},
   "outputs": [],
   "source": [
    "x_optimal, accepted_samples, history = GA(cost_func=cost_func,\n",
    "                                          sample_neighbor=get_neighbor,\n",
    "                                          x_0=x_0, \n",
    "                                          cooling_schedule=(cooling_func, cooling_window), \n",
    "                                          )"
   ]
  }
 ],
 "metadata": {
  "kernelspec": {
   "display_name": "Python 3",
   "language": "python",
   "name": "python3"
  },
  "language_info": {
   "codemirror_mode": {
    "name": "ipython",
    "version": 3
   },
   "file_extension": ".py",
   "mimetype": "text/x-python",
   "name": "python",
   "nbconvert_exporter": "python",
   "pygments_lexer": "ipython3",
   "version": "3.10.9"
  }
 },
 "nbformat": 4,
 "nbformat_minor": 2
}
