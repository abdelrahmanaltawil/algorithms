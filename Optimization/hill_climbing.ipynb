{
 "cells": [
  {
   "cell_type": "markdown",
   "metadata": {},
   "source": [
    "Hill Climbing\n",
    "======="
   ]
  },
  {
   "cell_type": "markdown",
   "metadata": {},
   "source": [
    "# Theory\n",
    "\n",
    "## Definition\n",
    "\n",
    "\n",
    "## Examples\n"
   ]
  },
  {
   "cell_type": "markdown",
   "metadata": {},
   "source": [
    "# Implementation\n"
   ]
  },
  {
   "cell_type": "markdown",
   "metadata": {},
   "source": [
    "## Imports"
   ]
  },
  {
   "cell_type": "code",
   "execution_count": 2,
   "metadata": {},
   "outputs": [],
   "source": [
    "import matplotlib\n",
    "import numpy as np\n",
    "import pandas as pd\n",
    "from typing import Callable\n",
    "import matplotlib.pyplot as plt\n",
    "from matplotlib.animation import FuncAnimation, PillowWriter\n",
    "matplotlib.rcParams['animation.embed_limit'] = 2**128"
   ]
  },
  {
   "cell_type": "markdown",
   "metadata": {},
   "source": [
    "## Parameters"
   ]
  },
  {
   "cell_type": "code",
   "execution_count": 3,
   "metadata": {},
   "outputs": [],
   "source": [
    "# No general Parameters"
   ]
  },
  {
   "cell_type": "markdown",
   "metadata": {},
   "source": [
    "## Algorithm\n"
   ]
  },
  {
   "cell_type": "code",
   "execution_count": 4,
   "metadata": {},
   "outputs": [],
   "source": [
    "def HC(cost_func: Callable, get_neighborhood: Callable, x_0: float, maxiter: int = int(5e4), task: str = \"minimization\") -> tuple[float, list, int]:\n",
    "\n",
    "\n",
    "    # algorithm data\n",
    "    x = [x_0]\n",
    "    cost = [cost_func(x_0)]\n",
    "\n",
    "    for _ in range(maxiter-1):\n",
    "        \n",
    "        # select the best neighbor\n",
    "        neighbors = get_neighborhood(x[-1])\n",
    "        best_neighbor = neighbors[ cost_func(neighbors).argsort()[0] ]\n",
    "\n",
    "        # accept if neighbor is better\n",
    "        if cost_func(best_neighbor) < cost_func(x[-1]):\n",
    "            x.append(best_neighbor)\n",
    "            cost.append(cost_func(best_neighbor))\n",
    "\n",
    "        # terminate if neighbor is worse\n",
    "        if cost_func(best_neighbor) > cost_func(x[-1]):\n",
    "            break\n",
    "        \n",
    "    \n",
    "    x_optimal, moves, history= x[-1], len(x), pd.DataFrame({\"cost\": cost, \"x\": x})\n",
    "\n",
    "    return x_optimal, moves, history"
   ]
  },
  {
   "cell_type": "markdown",
   "metadata": {},
   "source": [
    "## Results Visualization"
   ]
  },
  {
   "cell_type": "markdown",
   "metadata": {},
   "source": []
  },
  {
   "cell_type": "code",
   "execution_count": 5,
   "metadata": {},
   "outputs": [],
   "source": [
    "# cost function and neighborhood definition\n",
    "def cost_func(x: float) -> float:\n",
    "    '''\n",
    "    The cost is calculated use a mathematical expression \"i.e. the mathematical function to be optimized\"\n",
    "    '''\n",
    "    return 30*np.sin(x) + x**2\n",
    "\n",
    "def get_neighborhood(x: float) -> np.array:\n",
    "    '''\n",
    "    The neighborhood around x is defined as the list of numbers that is close to x within a given range \"i.e.\n",
    "    an interval around x => [x-5, x+5]\". Note that x is excluded from this list.\n",
    "    '''\n",
    "    interval_around_x = np.linspace(x-0.1, x+0.1) \n",
    "    return interval_around_x[ interval_around_x != x ]\n",
    "\n",
    "# starting value search\n",
    "x_0 = 8"
   ]
  },
  {
   "cell_type": "code",
   "execution_count": 6,
   "metadata": {},
   "outputs": [],
   "source": [
    "x_optimal, moves, history = HC(cost_func=cost_func,\n",
    "                               get_neighborhood=get_neighborhood,\n",
    "                               x_0=x_0\n",
    "                               )"
   ]
  },
  {
   "cell_type": "code",
   "execution_count": 7,
   "metadata": {},
   "outputs": [
    {
     "data": {
      "text/plain": [
       "[<matplotlib.lines.Line2D at 0x13d5baef0>]"
      ]
     },
     "execution_count": 7,
     "metadata": {},
     "output_type": "execute_result"
    },
    {
     "data": {
      "image/png": "[encoded data removed]",
      "text/plain": [
       "<Figure size 640x480 with 1 Axes>"
      ]
     },
     "metadata": {},
     "output_type": "display_data"
    }
   ],
   "source": [
    "xx = np.linspace(history[\"x\"].min()-4, history[\"x\"].max()+4, num=100)\n",
    "\n",
    "\n",
    "plt.plot(xx, cost_func(xx))\n",
    "plt.plot(history[\"x\"], history[\"cost\"], 'r.')"
   ]
  },
  {
   "cell_type": "code",
   "execution_count": null,
   "metadata": {},
   "outputs": [],
   "source": []
  }
 ],
 "metadata": {
  "kernelspec": {
   "display_name": "Python 3",
   "language": "python",
   "name": "python3"
  },
  "language_info": {
   "codemirror_mode": {
    "name": "ipython",
    "version": 3
   },
   "file_extension": ".py",
   "mimetype": "text/x-python",
   "name": "python",
   "nbconvert_exporter": "python",
   "pygments_lexer": "ipython3",
   "version": "3.10.9"
  }
 },
 "nbformat": 4,
 "nbformat_minor": 2
}
