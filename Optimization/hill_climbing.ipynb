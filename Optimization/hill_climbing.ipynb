{
 "cells": [
  {
   "cell_type": "markdown",
   "metadata": {},
   "source": [
    "Hill Climbing\n",
    "======="
   ]
  },
  {
   "cell_type": "markdown",
   "metadata": {},
   "source": [
    "# Theory\n",
    "\n",
    "## Definition\n",
    "\n",
    "\n",
    "## Examples\n"
   ]
  },
  {
   "cell_type": "markdown",
   "metadata": {},
   "source": [
    "# Implementation\n"
   ]
  },
  {
   "cell_type": "markdown",
   "metadata": {},
   "source": [
    "## Imports"
   ]
  },
  {
   "cell_type": "code",
   "execution_count": 10,
   "metadata": {},
   "outputs": [],
   "source": [
    "import math\n",
    "import matplotlib\n",
    "import numpy as np\n",
    "import pandas as pd\n",
    "from typing import Callable\n",
    "import matplotlib.pyplot as plt\n",
    "from matplotlib.animation import FuncAnimation, PillowWriter\n",
    "matplotlib.rcParams['animation.embed_limit'] = 2**128"
   ]
  },
  {
   "cell_type": "markdown",
   "metadata": {},
   "source": [
    "## Parameters"
   ]
  },
  {
   "cell_type": "code",
   "execution_count": 11,
   "metadata": {},
   "outputs": [],
   "source": [
    "# No general Parameters"
   ]
  },
  {
   "cell_type": "markdown",
   "metadata": {},
   "source": [
    "## Algorithm\n"
   ]
  },
  {
   "cell_type": "code",
   "execution_count": 12,
   "metadata": {},
   "outputs": [],
   "source": [
    "def HC(cost_func: Callable, get_neighborhood: Callable, x_0: float, maxiter: int = int(5e3), task: str = \"minimization\") -> tuple[float, list, int]:\n",
    "\n",
    "\n",
    "    # algorithm data\n",
    "    x = [x_0]\n",
    "    cost = [cost_func(x_0)]\n",
    "\n",
    "    for _ in range(maxiter-1):\n",
    "        \n",
    "        # select the best neighbor\n",
    "        neighbors = get_neighborhood(x[-1])\n",
    "        neighbors_costs = np.array([cost_func(neighbor) for neighbor in neighbors])\n",
    "        best_neighbor = neighbors[ neighbors_costs.argsort()[0] ]\n",
    "\n",
    "        # accept if neighbor is better\n",
    "        if cost_func(best_neighbor) < cost_func(x[-1]):\n",
    "            x.append(best_neighbor)\n",
    "            cost.append(cost_func(best_neighbor))\n",
    "\n",
    "        # terminate if neighbor is worse\n",
    "        if cost_func(best_neighbor) > cost_func(x[-1]):\n",
    "            break\n",
    "        \n",
    "    \n",
    "    x_optimal, moves, history= x[-1], len(x), pd.DataFrame({\"cost\": cost, \"x\": x})\n",
    "\n",
    "    return x_optimal, moves, history"
   ]
  },
  {
   "cell_type": "markdown",
   "metadata": {},
   "source": [
    "## Results Visualization"
   ]
  },
  {
   "cell_type": "markdown",
   "metadata": {},
   "source": [
    "### Optima of Mathematical Function"
   ]
  },
  {
   "cell_type": "code",
   "execution_count": 13,
   "metadata": {},
   "outputs": [],
   "source": [
    "# cost function and neighborhood definition\n",
    "def cost_func(x: float) -> float:\n",
    "    '''\n",
    "    The cost is calculated use a mathematical expression \"i.e. the mathematical function to be optimized\"\n",
    "    '''\n",
    "    return 30*np.sin(x) + x**2\n",
    "\n",
    "def get_neighborhood(x: float) -> np.array:\n",
    "    '''\n",
    "    The neighborhood around x is defined as the list of numbers that is close to x within a given range \"i.e.\n",
    "    an interval around x => [x-5, x+5]\". Note that x is excluded from this list.\n",
    "    '''\n",
    "    interval_around_x = np.linspace(x-0.1, x+0.1) \n",
    "    return interval_around_x[ interval_around_x != x ]\n",
    "\n",
    "# starting value search\n",
    "x_0 = 8"
   ]
  },
  {
   "cell_type": "code",
   "execution_count": 14,
   "metadata": {},
   "outputs": [],
   "source": [
    "x_optimal, moves, history = HC(cost_func=cost_func,\n",
    "                               get_neighborhood=get_neighborhood,\n",
    "                               x_0=x_0\n",
    "                               )"
   ]
  },
  {
   "cell_type": "code",
   "execution_count": 15,
   "metadata": {},
   "outputs": [
    {
     "data": {
      "text/plain": [
       "[<matplotlib.lines.Line2D at 0x1380cb7f0>]"
      ]
     },
     "execution_count": 15,
     "metadata": {},
     "output_type": "execute_result"
    },
    {
     "data": {
      "image/png": "[encoded data removed]",
      "text/plain": [
       "<Figure size 640x480 with 1 Axes>"
      ]
     },
     "metadata": {},
     "output_type": "display_data"
    }
   ],
   "source": [
    "xx = np.linspace(history[\"x\"].min()-8, history[\"x\"].max()+3, num=100)\n",
    "\n",
    "plt.plot(xx, cost_func(xx))\n",
    "plt.plot(history[\"x\"], history[\"cost\"], 'r.')"
   ]
  },
  {
   "cell_type": "markdown",
   "metadata": {},
   "source": [
    "### N-Queens Problem"
   ]
  },
  {
   "cell_type": "code",
   "execution_count": 38,
   "metadata": {},
   "outputs": [],
   "source": [
    "def cost_function(queens: np.array) -> float:\n",
    "    '''\n",
    "    The cost is calculated by counting the total number of attacks on the board. The attacks considered in this cost function are vertical, \n",
    "    horizontal and diagonal attacks. It should be noted that comitative attacks are counted once \"For example, a vertical attack from Queen_i \n",
    "    on Queen_j is that same as the vertical attack from Queen_j on Queen_i, hence they are counted as 1 attack together\"\n",
    "    '''\n",
    "    # collect queens position index, index in vertical and right/left diagonal lines\n",
    "    vertical_positions = queens\n",
    "    right_diagonal_positions = -1*( 1*queens - np.arange(len(queens))*-1 )\n",
    "    left_diagonal_positions  = -1*( -1*queens - np.arange(len(queens))*-1 )\n",
    "    \n",
    "    # check for attacks, by checking if they share same position index\n",
    "    cost = 0\n",
    "    for queen_positions in [vertical_positions, right_diagonal_positions, left_diagonal_positions]:\n",
    "        _, counts = np.unique(queen_positions, return_counts=True)\n",
    "        if any(counts > 1):\n",
    "           cost += sum([math.comb(queens_same_axis, 2) for queens_same_axis in counts[counts > 1]])\n",
    "    \n",
    "    return cost\n",
    "\n",
    "def get_neighborhood(queens: np.array) -> np.array:\n",
    "    '''\n",
    "    The neighborhood around a given board configuration \"i.e. queens\" is defined as the list of boards that is close to the current configuration. Close \n",
    "    is defined by the following, any board where one queen is shifted either two steps, or less; to the right or to the left in the board while keep other\n",
    "    queens positions the same\n",
    "    '''\n",
    "    N = len(queens)\n",
    "    neighborhood = []\n",
    "    for i in range(N):\n",
    "        \n",
    "        for shift in [1,2]:\n",
    "            # shift a queen to right and left\n",
    "            shift = shift*np.eye(1,N, k=i).reshape((N))\n",
    "            neighbor1 = queens + shift\n",
    "            neighbor2 = queens - shift\n",
    "\n",
    "            # test validity of neighbors\n",
    "            if np.all(neighbor1 <= N-1):\n",
    "                neighborhood.append(neighbor1)\n",
    "\n",
    "            if np.all(neighbor2 >= 0):\n",
    "                neighborhood.append(neighbor2)\n",
    "      \n",
    "    return np.array(neighborhood)\n",
    "\n",
    "def print_board(ax, queens: np.array) -> None:\n",
    "    '''\n",
    "    Function that take the board configuration \"i.e. queens\" and print it using matplotlib\n",
    "    '''\n",
    "    N = len(queens)\n",
    "    board = np.zeros((N,N,3))\n",
    "    board += 0.5 # \"Black\" color. Can also be a sequence of r,g,b with values 0-1.\n",
    "    board[::2, ::2] = 1 # \"White\" color\n",
    "    board[1::2, 1::2] = 1 # \"White\" color\n",
    "\n",
    "    fig, ax = plt.subplots()\n",
    "    board = np.array([[[0.5,0.5,0.5] if (pixel_i+pixel_j)%2 \n",
    "                       else [1,1,1] for pixel_i in range(N)] for pixel_j in range(N)])\n",
    "    ax.imshow(board, interpolation='nearest')\n",
    "\n",
    "    for y, x in enumerate(queens):\n",
    "        # Use \"family='font name'\" to change the font\n",
    "        ax.text(x, y, u'\\u2655', size=30, ha='center', va='center')\n",
    "\n",
    "    [ax.text(x, y, u'\\u2655', size=30, ha='center', va='center') for y, x in enumerate(queens)]\n",
    "    ax.set(xticks=[], yticks=[])\n",
    "    ax.axis('image')\n",
    "\n",
    "# search starting value\n",
    "queens_0 = np.random.choice(range(4), size=4)"
   ]
  },
  {
   "cell_type": "code",
   "execution_count": 32,
   "metadata": {},
   "outputs": [],
   "source": [
    "x_optimal, moves, history = HC(cost_func=cost_function,\n",
    "                               get_neighborhood=get_neighborhood,\n",
    "                               x_0=queens_0\n",
    "                               )"
   ]
  },
  {
   "cell_type": "code",
   "execution_count": 39,
   "metadata": {},
   "outputs": [
    {
     "data": {
      "image/png": "[encoded data removed]",
      "text/plain": [
       "<Figure size 640x480 with 1 Axes>"
      ]
     },
     "metadata": {},
     "output_type": "display_data"
    }
   ],
   "source": [
    "print_board(0, x_optimal)"
   ]
  },
  {
   "cell_type": "code",
   "execution_count": null,
   "metadata": {},
   "outputs": [],
   "source": []
  }
 ],
 "metadata": {
  "kernelspec": {
   "display_name": "Python 3",
   "language": "python",
   "name": "python3"
  },
  "language_info": {
   "codemirror_mode": {
    "name": "ipython",
    "version": 3
   },
   "file_extension": ".py",
   "mimetype": "text/x-python",
   "name": "python",
   "nbconvert_exporter": "python",
   "pygments_lexer": "ipython3",
   "version": "3.10.9"
  }
 },
 "nbformat": 4,
 "nbformat_minor": 2
}
