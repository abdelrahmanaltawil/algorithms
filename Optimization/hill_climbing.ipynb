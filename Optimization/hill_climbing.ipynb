{
 "cells": [
  {
   "cell_type": "markdown",
   "metadata": {},
   "source": [
    "Hill Climbing\n",
    "======="
   ]
  },
  {
   "cell_type": "markdown",
   "metadata": {},
   "source": [
    "# Theory\n",
    "\n",
    "## Definition\n",
    "\n",
    "\n",
    "## Examples\n"
   ]
  },
  {
   "cell_type": "markdown",
   "metadata": {},
   "source": [
    "# Implementation\n"
   ]
  },
  {
   "cell_type": "markdown",
   "metadata": {},
   "source": [
    "## Imports"
   ]
  },
  {
   "cell_type": "code",
   "execution_count": 5,
   "metadata": {},
   "outputs": [],
   "source": [
    "import numpy as np\n",
    "import sympy as sp\n",
    "from sympy.abc import x\n",
    "from typing import Callable\n",
    "import matplotlib.pyplot as plt\n",
    "import warnings"
   ]
  },
  {
   "cell_type": "markdown",
   "metadata": {},
   "source": [
    "## Parameters"
   ]
  },
  {
   "cell_type": "code",
   "execution_count": 6,
   "metadata": {},
   "outputs": [],
   "source": [
    "x_0 = 2.5           # method starting value\n",
    "generate_neighborhood = lambda x : [x + h for h in []]          # step size\n",
    "func = x**2         # use sp. methods only \"i.e sp.cos()\""
   ]
  },
  {
   "cell_type": "markdown",
   "metadata": {},
   "source": [
    "## Algorithm\n"
   ]
  },
  {
   "cell_type": "code",
   "execution_count": 4,
   "metadata": {},
   "outputs": [],
   "source": [
    "def HC(cost_func: Callable, generate_neighborhood: Callable, x_0: float, maxiter: int = int(5e2), task: str = \"minimization\") -> tuple[float, list, int]:\n",
    "\n",
    "\n",
    "    x = np.zeros(maxiter)\n",
    "    x[0] = x_0\n",
    "\n",
    "    for i in range(maxiter):\n",
    "        \n",
    "        neighbors = generate_neighborhood(x[i])\n",
    "        best_neighbor = neighbors[ cost_func(neighbors).argsort()[0] ] \n",
    "\n",
    "        # neighbor is better\n",
    "        if cost_func(best_neighbor) < cost_func(x[i]):\n",
    "            x[i+1] = best_neighbor\n",
    "\n",
    "        if cost_func(best_neighbor) > cost_func(x[i]):\n",
    "            break\n",
    "        \n",
    "    \n",
    "    x_min, history, steps= x[i+1], x[:i+2], i+1\n",
    "\n",
    "    return x_min, history, steps"
   ]
  },
  {
   "cell_type": "markdown",
   "metadata": {},
   "source": [
    "## Results Visualization"
   ]
  },
  {
   "cell_type": "code",
   "execution_count": null,
   "metadata": {},
   "outputs": [],
   "source": [
    "# domain\n",
    "xx = np.linspace(*domain)\n",
    "\n",
    "# function\n",
    "f = sp.lambdify('x', func)\n",
    "\n",
    "# function derivative\n",
    "f_prime = sp.lambdify('x', sp.diff(func))\n",
    "\n",
    "# gradient decent\n",
    "x_min, history, steps = HC(f_prime=f_prime, x_0=x_0, gamma=gamma)"
   ]
  }
 ],
 "metadata": {
  "kernelspec": {
   "display_name": "Python 3",
   "language": "python",
   "name": "python3"
  },
  "language_info": {
   "codemirror_mode": {
    "name": "ipython",
    "version": 3
   },
   "file_extension": ".py",
   "mimetype": "text/x-python",
   "name": "python",
   "nbconvert_exporter": "python",
   "pygments_lexer": "ipython3",
   "version": "3.10.9"
  }
 },
 "nbformat": 4,
 "nbformat_minor": 2
}
