{
 "cells": [
  {
   "cell_type": "markdown",
   "metadata": {},
   "source": [
    "Hill Climbing\n",
    "======="
   ]
  },
  {
   "cell_type": "markdown",
   "metadata": {},
   "source": [
    "# Theory\n",
    "\n",
    "## Definition\n",
    "\n",
    "\n",
    "## Examples\n"
   ]
  },
  {
   "cell_type": "markdown",
   "metadata": {},
   "source": [
    "# Implementation\n"
   ]
  },
  {
   "cell_type": "markdown",
   "metadata": {},
   "source": [
    "## Imports"
   ]
  },
  {
   "cell_type": "code",
   "execution_count": 8,
   "metadata": {},
   "outputs": [],
   "source": [
    "import numpy as np\n",
    "import sympy as sp\n",
    "from sympy.abc import x\n",
    "from typing import Callable\n",
    "import matplotlib.pyplot as plt\n",
    "import warnings"
   ]
  },
  {
   "cell_type": "markdown",
   "metadata": {},
   "source": [
    "## Parameters"
   ]
  },
  {
   "cell_type": "code",
   "execution_count": 9,
   "metadata": {},
   "outputs": [],
   "source": [
    "x_0 = 2.5           # method starting value\n",
    "generate_neighborhood = lambda x : [x + h for h in []]          # step size\n",
    "func = x**2         # use sp. methods only \"i.e sp.cos()\""
   ]
  },
  {
   "cell_type": "markdown",
   "metadata": {},
   "source": [
    "## Algorithm\n"
   ]
  },
  {
   "cell_type": "code",
   "execution_count": 10,
   "metadata": {},
   "outputs": [],
   "source": [
    "def HC(cost_func: Callable, generate_neighborhood: Callable, x_0: float, maxiter: int = int(5e2), task: str = \"minimization\") -> tuple[float, list, int]:\n",
    "\n",
    "\n",
    "    x = np.zeros(maxiter)\n",
    "    x[0] = x_0\n",
    "\n",
    "    for i in range(maxiter):\n",
    "        \n",
    "        neighbors = generate_neighborhood(x[i])\n",
    "        best_neighbor = neighbors[ cost_func(neighbors).argsort()[0] ] \n",
    "\n",
    "        # neighbor is better\n",
    "        if cost_func(best_neighbor) < cost_func(x[i]):\n",
    "            x[i+1] = best_neighbor\n",
    "\n",
    "        if cost_func(best_neighbor) > cost_func(x[i]):\n",
    "            break\n",
    "        \n",
    "    \n",
    "    x_min, history, steps= x[i+1], x[:i+2], i+1\n",
    "\n",
    "    return x_min, history, steps"
   ]
  },
  {
   "cell_type": "markdown",
   "metadata": {},
   "source": [
    "## Results Visualization"
   ]
  },
  {
   "cell_type": "code",
   "execution_count": 11,
   "metadata": {},
   "outputs": [
    {
     "ename": "TypeError",
     "evalue": "'Pow' object is not callable",
     "output_type": "error",
     "traceback": [
      "\u001b[0;31m---------------------------------------------------------------------------\u001b[0m",
      "\u001b[0;31mTypeError\u001b[0m                                 Traceback (most recent call last)",
      "Cell \u001b[0;32mIn[11], line 11\u001b[0m\n\u001b[1;32m      8\u001b[0m f_prime \u001b[38;5;241m=\u001b[39m sp\u001b[38;5;241m.\u001b[39mlambdify(\u001b[38;5;124m'\u001b[39m\u001b[38;5;124mx\u001b[39m\u001b[38;5;124m'\u001b[39m, sp\u001b[38;5;241m.\u001b[39mdiff(func))\n\u001b[1;32m     10\u001b[0m \u001b[38;5;66;03m# gradient decent\u001b[39;00m\n\u001b[0;32m---> 11\u001b[0m x_min, history, steps \u001b[38;5;241m=\u001b[39m \u001b[43mHC\u001b[49m\u001b[43m(\u001b[49m\u001b[43mcost_func\u001b[49m\u001b[38;5;241;43m=\u001b[39;49m\u001b[43mfunc\u001b[49m\u001b[43m,\u001b[49m\u001b[43m \u001b[49m\u001b[43mgenerate_neighborhood\u001b[49m\u001b[38;5;241;43m=\u001b[39;49m\u001b[43mgenerate_neighborhood\u001b[49m\u001b[43m,\u001b[49m\u001b[43m \u001b[49m\u001b[43mx_0\u001b[49m\u001b[38;5;241;43m=\u001b[39;49m\u001b[43mx_0\u001b[49m\u001b[43m)\u001b[49m\n",
      "Cell \u001b[0;32mIn[10], line 10\u001b[0m, in \u001b[0;36mHC\u001b[0;34m(cost_func, generate_neighborhood, x_0, maxiter, task)\u001b[0m\n\u001b[1;32m      7\u001b[0m \u001b[38;5;28;01mfor\u001b[39;00m i \u001b[38;5;129;01min\u001b[39;00m \u001b[38;5;28mrange\u001b[39m(maxiter):\n\u001b[1;32m      9\u001b[0m     neighbors \u001b[38;5;241m=\u001b[39m generate_neighborhood(x[i])\n\u001b[0;32m---> 10\u001b[0m     best_neighbor \u001b[38;5;241m=\u001b[39m neighbors[ \u001b[43mcost_func\u001b[49m\u001b[43m(\u001b[49m\u001b[43mneighbors\u001b[49m\u001b[43m)\u001b[49m\u001b[38;5;241m.\u001b[39margsort()[\u001b[38;5;241m0\u001b[39m] ] \n\u001b[1;32m     12\u001b[0m     \u001b[38;5;66;03m# neighbor is better\u001b[39;00m\n\u001b[1;32m     13\u001b[0m     \u001b[38;5;28;01mif\u001b[39;00m cost_func(best_neighbor) \u001b[38;5;241m<\u001b[39m cost_func(x[i]):\n",
      "\u001b[0;31mTypeError\u001b[0m: 'Pow' object is not callable"
     ]
    }
   ],
   "source": [
    "# domain\n",
    "xx = np.linspace(*domain)\n",
    "\n",
    "# function\n",
    "f = sp.lambdify('x', func)\n",
    "\n",
    "# function derivative\n",
    "f_prime = sp.lambdify('x', sp.diff(func))\n",
    "\n",
    "# gradient decent\n",
    "x_min, history, steps = HC(cost_func=func, generate_neighborhood=generate_neighborhood, x_0=x_0)"
   ]
  },
  {
   "cell_type": "code",
   "execution_count": null,
   "metadata": {},
   "outputs": [],
   "source": []
  }
 ],
 "metadata": {
  "kernelspec": {
   "display_name": "Python 3",
   "language": "python",
   "name": "python3"
  },
  "language_info": {
   "codemirror_mode": {
    "name": "ipython",
    "version": 3
   },
   "file_extension": ".py",
   "mimetype": "text/x-python",
   "name": "python",
   "nbconvert_exporter": "python",
   "pygments_lexer": "ipython3",
   "version": "3.10.9"
  }
 },
 "nbformat": 4,
 "nbformat_minor": 2
}
