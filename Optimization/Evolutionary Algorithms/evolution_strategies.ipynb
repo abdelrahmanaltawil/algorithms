{
 "cells": [
  {
   "cell_type": "markdown",
   "metadata": {},
   "source": [
    "Evolution Strategies\n",
    "======="
   ]
  },
  {
   "cell_type": "markdown",
   "metadata": {},
   "source": [
    "# Theory\n",
    "inspired by the biological theory of evolution by means of natural selection\n",
    "\n",
    "## Definition\n",
    "Unlike other evolutionary algorithms, it does not use any form of crossover; instead, modification of candidate solutions is limited to mutation operators. In this way, Evolution Strategies may be thought of as a type of parallel stochastic hill climbing.\n",
    "\n",
    "## Examples\n"
   ]
  },
  {
   "cell_type": "markdown",
   "metadata": {},
   "source": [
    "# Implementation\n"
   ]
  },
  {
   "cell_type": "markdown",
   "metadata": {},
   "source": [
    "## Imports"
   ]
  },
  {
   "cell_type": "code",
   "execution_count": 30,
   "metadata": {},
   "outputs": [],
   "source": [
    "import matplotlib\n",
    "import numpy as np\n",
    "import pandas as pd\n",
    "from typing import Callable\n",
    "import matplotlib.pyplot as plt\n",
    "from matplotlib.animation import FuncAnimation, PillowWriter\n",
    "matplotlib.rcParams['animation.embed_limit'] = 2**128"
   ]
  },
  {
   "cell_type": "markdown",
   "metadata": {},
   "source": [
    "## Parameters"
   ]
  },
  {
   "cell_type": "code",
   "execution_count": null,
   "metadata": {},
   "outputs": [],
   "source": []
  },
  {
   "cell_type": "markdown",
   "metadata": {},
   "source": [
    "## Algorithm\n"
   ]
  },
  {
   "cell_type": "code",
   "execution_count": 66,
   "metadata": {},
   "outputs": [],
   "source": [
    "def ES(fitness_func: Callable, generate_children: Callable, lam: int, mu: int, x_0: float, generations: int = int(5e2)) -> tuple[float, list, int]:\n",
    "    '''\n",
    "    _summary_\n",
    "\n",
    "    Args:\n",
    "        fitness_func: _description_\n",
    "        get_neighborhood: _description_\n",
    "        lam: _description_\n",
    "        mu: _description_\n",
    "        x_0: _description_\n",
    "        generations: _description_. Defaults to int(5e2).\n",
    "\n",
    "    Returns:\n",
    "        _description_\n",
    "    '''\n",
    "    \n",
    "    # algorithm data \n",
    "    population = generate_children(x_0, size=lam)\n",
    "    number_children = int(lam/mu)\n",
    "    fitness = [fitness_func(x_0)]\n",
    "    accepted_samples = 0\n",
    "    x = [x_0]\n",
    "\n",
    "\n",
    "    generations_population = [population]\n",
    "    for _ in range(generations-1):\n",
    "        \n",
    "        # offsprings selection\n",
    "        population_fitness = np.array([fitness_func(neighbor) for neighbor in population])\n",
    "        offsprings = population[ population_fitness.argsort()[:mu] ]\n",
    "\n",
    "\n",
    "        # check the merit of best offspring \n",
    "        best_offspring = offsprings[0]\n",
    "\n",
    "        ## accept it if better fitness\n",
    "        if fitness_func(best_offspring) < fitness_func(x[-1]):\n",
    "            x.append(best_offspring)\n",
    "            fitness.append(fitness_func(best_offspring))\n",
    "            generations_population.append(population)\n",
    "            accepted_samples+=1\n",
    "\n",
    "        ## reject it \"keep current best\"\n",
    "        else:\n",
    "            x.append(x[-1])\n",
    "            fitness.append(fitness_func(x[-1]))\n",
    "            generations_population.append(population)\n",
    "\n",
    "\n",
    "        # produce new population\n",
    "        offsprings_children = []\n",
    "        for offspring in offsprings:\n",
    "            children = generate_children(offspring, size=number_children)\n",
    "            offsprings_children.extend(children)\n",
    "       \n",
    "        population = np.array(offsprings_children)\n",
    "\n",
    "    x_optimal, history = x[-1], pd.DataFrame({\"fitness\": fitness, \"x\": x, \"population\": generations_population})\n",
    "\n",
    "\n",
    "    return x_optimal, accepted_samples, history"
   ]
  },
  {
   "cell_type": "markdown",
   "metadata": {},
   "source": [
    "## Results Visualization & Behaver Analysis\n"
   ]
  },
  {
   "cell_type": "code",
   "execution_count": 67,
   "metadata": {},
   "outputs": [],
   "source": [
    "# cost function and neighborhood definition\n",
    "def cost_func(x: float) -> float:\n",
    "    '''\n",
    "    The cost is calculated use a mathematical expression \"i.e. the mathematical function to be optimized\"\n",
    "    '''\n",
    "    return 30*np.sin(x) + x**2\n",
    "\n",
    "def get_neighborhood(x: float, size: int, mean: float = 0, SD: float = 1.5) -> np.array:\n",
    "    '''\n",
    "    The neighborhood around x is defined as the sampled values from a normal distribution centred on x. This means that the bonds \n",
    "    of the neighborhood of x is infinite. Note that x is excluded from this list.\n",
    "    '''\n",
    "    return x + np.random.normal(loc=mean, scale=SD, size=size)\n",
    "\n",
    "# starting value search\n",
    "x_0 = 8"
   ]
  },
  {
   "cell_type": "code",
   "execution_count": 28,
   "metadata": {},
   "outputs": [],
   "source": [
    "x_optimal, accepted_samples, history = ES(cost_func=cost_func,\n",
    "                                          get_neighborhood=get_neighborhood,\n",
    "                                          lam=20,\n",
    "                                          mu=10,\n",
    "                                          x_0=x_0,\n",
    "                                          generations=20\n",
    "                                          )"
   ]
  },
  {
   "cell_type": "code",
   "execution_count": 29,
   "metadata": {},
   "outputs": [],
   "source": [
    "%%capture\n",
    "fig, ax = plt.subplots(figsize=(6,6))\n",
    "\n",
    "# fine domain and range limits\n",
    "xx = np.linspace(min(map(min, history[\"population\"]))-4, max(map(max, history[\"population\"]))+4, num=100)\n",
    "y_lim = [np.min(cost_func(xx))-0.2*np.ptp(cost_func(xx)), np.max(cost_func(xx))+0.2*np.ptp(cost_func(xx))]\n",
    "\n",
    "# simulated annealing sampling animation \n",
    "## statics components\n",
    "main_function,      = ax.plot(xx, cost_func(xx), \"k\")\n",
    "sample_x_ticks,     = ax.plot([history[\"x\"][0]], [y_lim[0]], \"r|\", clip_on=False, zorder=100)\n",
    "sample_line,        = ax.plot([], [], \"r--\")\n",
    "sample_point,       = ax.plot([], [], \"ro\")\n",
    "population_point,   = ax.plot([], [], \"r2\", label=\"Population\")\n",
    "generation_count,   = ax.plot([], [], \"k>\", label=\"Generation = \"+\"{:.2f}\".format(1))\n",
    "\n",
    "## decorations\n",
    "ax.set(xlabel=\"x\", ylabel=\"f(x)\", ylim=y_lim, title=\"Evolution Strategies Generations\")\n",
    "legend = ax.legend()\n",
    "\n",
    "ax.grid(True)\n",
    "\n",
    "def animate(frame: int) -> tuple:\n",
    "\n",
    "    ## animated components\n",
    "    sample_line.set_data([history[\"x\"][frame], history[\"x\"][frame]], [y_lim[0], cost_func(history[\"x\"][frame])])\n",
    "    sample_point.set_data([history[\"x\"][frame]], [cost_func(history[\"x\"][frame])])\n",
    "    population_point.set_data([history[\"population\"][frame]], [cost_func(history[\"population\"][frame])])\n",
    "    sample_x_ticks.set_data([history[\"x\"][:frame]], [y_lim[0]])\n",
    "    legend.get_texts()[1].set_text(\"Generation = \"+\"{}\".format(frame+1))\n",
    "\n",
    "    return sample_line, population_point, sample_point, sample_x_ticks\n",
    "\n",
    "ani = FuncAnimation(fig, animate, frames=len(history[\"x\"]), blit=True, interval=30)\n",
    "\n",
    "ani.save('../Resources/Evolution Strategies-Result.gif', writer=PillowWriter(fps=1))"
   ]
  },
  {
   "cell_type": "markdown",
   "metadata": {},
   "source": [
    "<div style=\"text-align:center\"><img src=\"../Resources/Evolution Strategies-Result.gif\" width=\"500\"/></div>  \n",
    "<em>If the gif is not updated, please reopen the notebook.</em>"
   ]
  },
  {
   "cell_type": "code",
   "execution_count": null,
   "metadata": {},
   "outputs": [],
   "source": []
  }
 ],
 "metadata": {
  "kernelspec": {
   "display_name": "Python 3",
   "language": "python",
   "name": "python3"
  },
  "language_info": {
   "codemirror_mode": {
    "name": "ipython",
    "version": 3
   },
   "file_extension": ".py",
   "mimetype": "text/x-python",
   "name": "python",
   "nbconvert_exporter": "python",
   "pygments_lexer": "ipython3",
   "version": "3.10.9"
  }
 },
 "nbformat": 4,
 "nbformat_minor": 2
}
