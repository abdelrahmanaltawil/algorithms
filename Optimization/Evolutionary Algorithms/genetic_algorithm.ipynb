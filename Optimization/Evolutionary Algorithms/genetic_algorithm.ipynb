{
 "cells": [
  {
   "cell_type": "markdown",
   "metadata": {},
   "source": [
    "Genetic Algorithm\n",
    "======="
   ]
  },
  {
   "cell_type": "markdown",
   "metadata": {},
   "source": [
    "# Theory\n",
    "\n",
    "## Definition\n",
    "\n",
    "\n",
    "## Examples\n"
   ]
  },
  {
   "cell_type": "markdown",
   "metadata": {},
   "source": []
  },
  {
   "cell_type": "markdown",
   "metadata": {},
   "source": [
    "# Implementation\n"
   ]
  },
  {
   "cell_type": "markdown",
   "metadata": {},
   "source": [
    "## Imports"
   ]
  },
  {
   "cell_type": "code",
   "execution_count": 1,
   "metadata": {},
   "outputs": [],
   "source": [
    "import matplotlib\n",
    "import math\n",
    "import numpy as np\n",
    "import pandas as pd\n",
    "from typing import Callable\n",
    "import matplotlib.pyplot as plt\n",
    "matplotlib.rcParams['animation.embed_limit'] = 2**128"
   ]
  },
  {
   "cell_type": "markdown",
   "metadata": {},
   "source": [
    "## Parameters"
   ]
  },
  {
   "cell_type": "code",
   "execution_count": null,
   "metadata": {},
   "outputs": [],
   "source": []
  },
  {
   "cell_type": "markdown",
   "metadata": {},
   "source": [
    "## Algorithm\n",
    "```mermaid\n",
    "    flowchart TB\n",
    "\n",
    "        x_0(Start with starting \\nsolution x_0) --> Loop\n",
    "        x_0 --> population(Initial population)\n",
    "        population --> Loop\n",
    "        \n",
    "        subgraph Loop\n",
    "            direction LR\n",
    "\n",
    "            offsprings(Selection of population \\n offsprings) --> condition{Is the best offspring cost better \\nthan current cost?}\n",
    "            condition --> |True| move(Move to offspring)\n",
    "            condition --> |False| stay(Stay where you are)\n",
    "            \n",
    "            move --> Mutation\n",
    "            stay --> Mutation\n",
    "\n",
    "            subgraph Mutation\n",
    "                direction TB\n",
    "            \n",
    "                children(Produce children \\nfrom offsprings using \\n crossover method) --> add(Create new  population set \\nfrom offsprings children)\n",
    "            end\n",
    "\n",
    "            Mutation --> update(Update population)\n",
    "\n",
    "        end\n",
    "\n",
    "        Loop --> return(Return current solution)\n",
    "\n",
    "        \n",
    "```"
   ]
  },
  {
   "cell_type": "code",
   "execution_count": 4,
   "metadata": {},
   "outputs": [],
   "source": [
    "def GA(fitness_func: Callable, generate_children: Callable, lam: int, mu: int, x_0: float, generations: int = int(5e2)) -> tuple[float, list, int]:\n",
    "    '''\n",
    "    _summary_\n",
    "\n",
    "    Args:\n",
    "        cost_func: _description_\n",
    "        get_neighborhood: _description_\n",
    "        lam: _description_\n",
    "        mu: _description_\n",
    "        x_0: _description_\n",
    "        generations: _description_. Defaults to int(5e2).\n",
    "\n",
    "    Returns:\n",
    "        _description_\n",
    "    '''\n",
    "    \n",
    "    # algorithm data \n",
    "    population = generate_children(x_0, size=lam)\n",
    "    number_children = int(lam/mu)\n",
    "    cost = [fitness_func(x_0)]\n",
    "    accepted_samples = 0\n",
    "    x = [x_0]\n",
    "\n",
    "\n",
    "    generations_population = [population]\n",
    "    for _ in range(generations-1):\n",
    "        \n",
    "        # offsprings selection\n",
    "        population_costs = np.array([fitness_func(neighbor) for neighbor in population])\n",
    "        offsprings = population[ population_costs.argsort()[:mu] ]\n",
    "\n",
    "\n",
    "        # check the merit of best offspring \n",
    "        best_offspring = offsprings[0]\n",
    "\n",
    "        ## accept it if better cost\n",
    "        if fitness_func(best_offspring) < fitness_func(x[-1]):\n",
    "            x.append(best_offspring)\n",
    "            cost.append(fitness_func(best_offspring))\n",
    "            generations_population.append(population)\n",
    "            accepted_samples+=1\n",
    "\n",
    "        ## reject it \"keep current best\"\n",
    "        else:\n",
    "            x.append(x[-1])\n",
    "            cost.append(fitness_func(x[-1]))\n",
    "            generations_population.append(population)\n",
    "\n",
    "\n",
    "        # produce new population\n",
    "        offsprings_children = []\n",
    "        for offspring in offsprings:\n",
    "            children = generate_children(offspring, size=number_children)\n",
    "            offsprings_children.extend(children)\n",
    "       \n",
    "        population = np.array(offsprings_children)\n",
    "\n",
    "    x_optimal, history = x[-1], pd.DataFrame({\"cost\": cost, \"x\": x, \"population\": generations_population})\n",
    "\n",
    "\n",
    "    return x_optimal, accepted_samples, history"
   ]
  },
  {
   "cell_type": "markdown",
   "metadata": {},
   "source": [
    "## Results Visualization & Behaver Analysis\n"
   ]
  },
  {
   "cell_type": "code",
   "execution_count": null,
   "metadata": {},
   "outputs": [],
   "source": [
    "def cost_function(queens: np.array) -> float:\n",
    "    '''\n",
    "    The cost is calculated by counting the total number of attacks on the board. The attacks considered in this cost function are vertical, \n",
    "    horizontal and diagonal attacks. It should be noted that comitative attacks are counted once \"For example, a vertical attack from Queen_i \n",
    "    on Queen_j is that same as the vertical attack from Queen_j on Queen_i, hence they are counted as 1 attack together\"\n",
    "    '''\n",
    "    # collect queens positions in vertical and right/left diagonal lines \"position described by line index\"\n",
    "    vertical_positions = queens\n",
    "    right_diagonal_positions = -1*( 1*queens - np.arange(len(queens))*-1 )\n",
    "    left_diagonal_positions  = -1*( -1*queens - np.arange(len(queens))*-1 )\n",
    "    \n",
    "    # check for attacks, by checking if they share same line index\n",
    "    cost = 0\n",
    "    for queen_positions in [vertical_positions, right_diagonal_positions, left_diagonal_positions]:\n",
    "        _, counts = np.unique(queen_positions, return_counts=True)\n",
    "        if any(counts > 1):\n",
    "           cost += sum([math.comb(queens_same_axis, 2) for queens_same_axis in counts[counts > 1]])\n",
    "    \n",
    "    return cost\n",
    "\n",
    "def get_neighborhood(queens: np.array) -> np.array:\n",
    "    '''\n",
    "    The neighborhood around a given board configuration \"i.e. queens\" is defined as the list of boards that is close to the current configuration. Close \n",
    "    is defined by the following, any board where one queen is shifted either two steps, or less; to the right or to the left in the board while keep other\n",
    "    queens positions the same\n",
    "    '''\n",
    "    N = len(queens)\n",
    "    neighborhood = []\n",
    "    for i in range(N):\n",
    "        \n",
    "        for shift in [1,2]:\n",
    "            # shift a queen to right and left\n",
    "            shift = shift*np.eye(1,N, k=i).reshape((N))\n",
    "            neighbor1 = queens + shift\n",
    "            neighbor2 = queens - shift\n",
    "\n",
    "            # test validity of neighbors\n",
    "            if np.all(neighbor1 <= N-1):\n",
    "                neighborhood.append(neighbor1)\n",
    "\n",
    "            if np.all(neighbor2 >= 0):\n",
    "                neighborhood.append(neighbor2)\n",
    "      \n",
    "    return np.array(neighborhood)\n",
    "\n",
    "def print_board(ax, queens: np.array) -> None:\n",
    "    '''\n",
    "    Function that take the board configuration \"i.e. queens\" and print it using matplotlib\n",
    "    '''\n",
    "    N = len(queens)\n",
    "    # create pixels matrix and plot\n",
    "    board = np.array([[[0.5,0.5,0.5] if (pixel_i+pixel_j)%2 \n",
    "                       else [1,1,1] for pixel_i in range(N)] for pixel_j in range(N)])\n",
    "    ax.imshow(board, interpolation='nearest')\n",
    "    ax.set(xticks=[], yticks=[])\n",
    "    ax.axis('image')\n",
    "\n",
    "    # add queens\n",
    "    [ax.text(x, y, u'\\u2655', size=30, ha='center', va='center') for y, x in enumerate(queens)]\n",
    "    \n",
    "\n",
    "# search starting value\n",
    "board_size = 6\n",
    "queens_0 = np.random.choice(range(board_size), size=board_size)\n"
   ]
  },
  {
   "cell_type": "code",
   "execution_count": null,
   "metadata": {},
   "outputs": [],
   "source": [
    "x_optimal, accepted_samples, history = GA(cost_func=cost_function,\n",
    "                                          sample_neighbor=get_neighborhood,\n",
    "                                          x_0=queens_0, \n",
    "                                          )"
   ]
  },
  {
   "cell_type": "code",
   "execution_count": 42,
   "metadata": {},
   "outputs": [
    {
     "data": {
      "text/plain": [
       "(-0.6709468886932317, 37)"
      ]
     },
     "execution_count": 42,
     "metadata": {},
     "output_type": "execute_result"
    }
   ],
   "source": []
  },
  {
   "cell_type": "code",
   "execution_count": null,
   "metadata": {},
   "outputs": [],
   "source": []
  }
 ],
 "metadata": {
  "kernelspec": {
   "display_name": "Python 3",
   "language": "python",
   "name": "python3"
  },
  "language_info": {
   "codemirror_mode": {
    "name": "ipython",
    "version": 3
   },
   "file_extension": ".py",
   "mimetype": "text/x-python",
   "name": "python",
   "nbconvert_exporter": "python",
   "pygments_lexer": "ipython3",
   "version": "3.10.9"
  }
 },
 "nbformat": 4,
 "nbformat_minor": 2
}
