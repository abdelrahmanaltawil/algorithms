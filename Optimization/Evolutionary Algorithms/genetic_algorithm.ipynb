{
 "cells": [
  {
   "cell_type": "markdown",
   "metadata": {},
   "source": [
    "Genetic Algorithm\n",
    "======="
   ]
  },
  {
   "cell_type": "markdown",
   "metadata": {},
   "source": [
    "# Theory\n",
    "\n",
    "## Definition\n",
    "\n",
    "\n",
    "## Examples\n"
   ]
  },
  {
   "cell_type": "markdown",
   "metadata": {},
   "source": [
    "# Implementation\n"
   ]
  },
  {
   "cell_type": "markdown",
   "metadata": {},
   "source": [
    "## Imports"
   ]
  },
  {
   "cell_type": "code",
   "execution_count": 2,
   "metadata": {},
   "outputs": [],
   "source": [
    "import matplotlib\n",
    "import numpy as np\n",
    "import pandas as pd\n",
    "from typing import Callable\n",
    "import matplotlib.pyplot as plt\n",
    "matplotlib.rcParams['animation.embed_limit'] = 2**128"
   ]
  },
  {
   "cell_type": "markdown",
   "metadata": {},
   "source": [
    "## Parameters"
   ]
  },
  {
   "cell_type": "code",
   "execution_count": 3,
   "metadata": {},
   "outputs": [],
   "source": []
  },
  {
   "cell_type": "markdown",
   "metadata": {},
   "source": [
    "## Algorithm\n"
   ]
  },
  {
   "cell_type": "code",
   "execution_count": 4,
   "metadata": {},
   "outputs": [],
   "source": [
    "def GA(cost_func: Callable, get_neighborhood: Callable, number_of_offspring: int, x_0: float, generations: int = int(5e2)) -> tuple[float, list, int]:\n",
    "    '''\n",
    "    '''\n",
    "\n",
    "    # algorithm data\n",
    "    cost = [cost_func(x_0)]\n",
    "    accepted_samples = 0\n",
    "    x = [x_0]\n",
    "\n",
    "\n",
    "    for i in range(generations):\n",
    "        \n",
    "        offsprings = [\"List of solutions with mutation\"] # [sample_offspring(x) for _ in range(number_of_offspring)]\n",
    "        natural_selection = [\"These off_springs compete with each other and survival of the fittest\"]\n",
    "\n",
    "        # place holder\n",
    "\n"
   ]
  },
  {
   "cell_type": "markdown",
   "metadata": {},
   "source": [
    "## Results Visualization & Behaver Analysis\n"
   ]
  },
  {
   "cell_type": "code",
   "execution_count": null,
   "metadata": {},
   "outputs": [],
   "source": [
    "x_optimal, accepted_samples, history = GA(cost_func=cost_func,\n",
    "                                          sample_neighbor=get_neighbor,\n",
    "                                          x_0=x_0, \n",
    "                                          cooling_schedule=(cooling_func, cooling_window), \n",
    "                                          )"
   ]
  },
  {
   "cell_type": "code",
   "execution_count": 42,
   "metadata": {},
   "outputs": [
    {
     "data": {
      "text/plain": [
       "(-0.6709468886932317, 37)"
      ]
     },
     "execution_count": 42,
     "metadata": {},
     "output_type": "execute_result"
    }
   ],
   "source": [
    "i = 0\n",
    "x = 1\n",
    "while x > 0:\n",
    "    x = 3 + np.random.normal()\n",
    "    i += 1\n",
    "x, i"
   ]
  },
  {
   "cell_type": "code",
   "execution_count": null,
   "metadata": {},
   "outputs": [],
   "source": []
  }
 ],
 "metadata": {
  "kernelspec": {
   "display_name": "Python 3",
   "language": "python",
   "name": "python3"
  },
  "language_info": {
   "codemirror_mode": {
    "name": "ipython",
    "version": 3
   },
   "file_extension": ".py",
   "mimetype": "text/x-python",
   "name": "python",
   "nbconvert_exporter": "python",
   "pygments_lexer": "ipython3",
   "version": "3.10.9"
  }
 },
 "nbformat": 4,
 "nbformat_minor": 2
}
