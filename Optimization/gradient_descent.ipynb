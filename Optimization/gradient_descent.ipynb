{
 "cells": [
  {
   "cell_type": "markdown",
   "metadata": {},
   "source": [
    "Gradient Descent\n",
    "--------"
   ]
  },
  {
   "cell_type": "markdown",
   "metadata": {},
   "source": [
    "# Theory\n",
    "\n",
    "## Definition\n",
    "\n",
    "\n",
    "## Examples\n"
   ]
  },
  {
   "cell_type": "markdown",
   "metadata": {},
   "source": [
    "# Implementation"
   ]
  },
  {
   "cell_type": "markdown",
   "metadata": {},
   "source": [
    "## Imports"
   ]
  },
  {
   "cell_type": "code",
   "execution_count": 2,
   "metadata": {},
   "outputs": [],
   "source": [
    "import numpy as np\n",
    "import sympy as sp\n",
    "import pandas as pd\n",
    "from sympy.abc import x\n",
    "from typing import Callable\n",
    "import matplotlib.pyplot as plt\n",
    "import warnings"
   ]
  },
  {
   "cell_type": "code",
   "execution_count": 29,
   "metadata": {},
   "outputs": [],
   "source": [
    "func = x**2           # use sp. methods only \"i.e sp.cos()\""
   ]
  },
  {
   "cell_type": "markdown",
   "metadata": {},
   "source": [
    "## Algorithm\n"
   ]
  },
  {
   "cell_type": "code",
   "execution_count": 30,
   "metadata": {},
   "outputs": [],
   "source": [
    "def GD(f: Callable, x_0: float, step: float, TOL: float = 1e-5, maxiter: int = int(1e5)) -> tuple[float, float, int]:\n",
    "    '''\n",
    "    _summary_\n",
    "\n",
    "    Args:\n",
    "        f: _description_\n",
    "        x_0: _description_\n",
    "        step: _description_\n",
    "        TOL: _description_. Defaults to 1e-5.\n",
    "        maxiter: _description_. Defaults to int(1e5).\n",
    "\n",
    "    Returns:\n",
    "        _description_\n",
    "    '''\n",
    "    \n",
    "    # function derivative\n",
    "    f_prime = sp.lambdify('x', sp.diff(f))\n",
    "\n",
    "\n",
    "    x = np.zeros(maxiter)\n",
    "    x[0] = x_0\n",
    "\n",
    "    for i in range(maxiter):\n",
    "        \n",
    "        x[i+1] = x[i] - step*f_prime(x[i])\n",
    "        delta_x = abs(x[i] - x[i+1])\n",
    "\n",
    "        # convergence condition\n",
    "        if delta_x < TOL:\n",
    "            break\n",
    "\n",
    "\n",
    "        # handel divergence & not enough iterations\n",
    "        if delta_x > 1e6:\n",
    "            warnings.warn(f\"GD diverged where delta x = {delta_x}, choose smaller step size\")\n",
    "            break\n",
    "        elif i+1==maxiter-1:\n",
    "            warnings.warn(f\"GD need more iterations steps = {i+1}, increase maxiter argument\")\n",
    "            break\n",
    "    \n",
    "    x_min, history, steps= x[i+1], x[:i+2], i+1\n",
    "\n",
    "    return x_min, history, steps"
   ]
  },
  {
   "cell_type": "code",
   "execution_count": 32,
   "metadata": {},
   "outputs": [
    {
     "data": {
      "text/plain": [
       "(-2.6843545599999936e-06,\n",
       " array([ 2.50000000e+00, -1.00000000e+00,  4.00000000e-01, -1.60000000e-01,\n",
       "         6.40000000e-02, -2.56000000e-02,  1.02400000e-02, -4.09600000e-03,\n",
       "         1.63840000e-03, -6.55360000e-04,  2.62144000e-04, -1.04857600e-04,\n",
       "         4.19430400e-05, -1.67772160e-05,  6.71088640e-06, -2.68435456e-06]),\n",
       " 15)"
      ]
     },
     "execution_count": 32,
     "metadata": {},
     "output_type": "execute_result"
    }
   ],
   "source": [
    "GD(f=func, x_0=2.5, step=0.7)"
   ]
  },
  {
   "cell_type": "code",
   "execution_count": null,
   "metadata": {},
   "outputs": [],
   "source": []
  }
 ],
 "metadata": {
  "kernelspec": {
   "display_name": "ML",
   "language": "python",
   "name": "python3"
  },
  "language_info": {
   "codemirror_mode": {
    "name": "ipython",
    "version": 3
   },
   "file_extension": ".py",
   "mimetype": "text/x-python",
   "name": "python",
   "nbconvert_exporter": "python",
   "pygments_lexer": "ipython3",
   "version": "3.10.9"
  }
 },
 "nbformat": 4,
 "nbformat_minor": 2
}
