{
 "cells": [
  {
   "cell_type": "markdown",
   "metadata": {},
   "source": [
    "Markov Chains\n",
    "==========="
   ]
  },
  {
   "cell_type": "markdown",
   "metadata": {},
   "source": [
    "# Theory\n",
    "\n",
    "## Definition\n",
    "\n",
    "The stationary distribution is obtained through two approaches\n",
    "- Limiting results \"iterative stepping in n\"\n",
    "- Steady State Results \"solving linear system of equations\"\n",
    "\n",
    "Limiting results\n",
    "\n",
    "$$\n",
    "\\lim_{n \\rightarrow \\infin} P^{(n)} = P\n",
    "$$\n",
    "\n",
    "As for the steady State Results, the stationary distribution is derived from the relation \n",
    "$$\n",
    "\\mathbf{\\pi} P = \\mathbf{\\pi}\n",
    "$$\n",
    "Rearranging the terms\n",
    "$$\n",
    "\\mathbf{\\pi} (P-I) = 0\n",
    "$$\n",
    "\n",
    "solving this system would give that $\\pi = 0$, which not what we want. So to solve for stationary distribution, we consider the following constraint on $\\pi$\n",
    "\n",
    "$$\n",
    "\\pi_1 + \\pi_2 + \\dots + \\pi_n = 1\n",
    "$$\n",
    "\n",
    "Embedding this constraint in our system would result a new $n\\times n+1$ matrix $Q$ and new r.h.s.  $1 \\times n+1$ vector $b$\n",
    "$$\n",
    "\\mathbf{\\pi} Q = b\n",
    "$$\n",
    "\n",
    "To solve it, i.e. having $Q^{-1}$ we solve this system\n",
    "$$\n",
    "\\mathbf{\\pi} QQ^T = bQ^T\n",
    "$$\n",
    "\n",
    "\n",
    "\n",
    "### Algorithm\n",
    "\n",
    "\n",
    "## Examples\n"
   ]
  },
  {
   "cell_type": "markdown",
   "metadata": {},
   "source": [
    "# Implementation\n"
   ]
  },
  {
   "cell_type": "markdown",
   "metadata": {},
   "source": [
    "## Imports"
   ]
  },
  {
   "cell_type": "code",
   "execution_count": 3,
   "metadata": {},
   "outputs": [],
   "source": [
    "import numpy as np\n",
    "import matplotlib.pyplot as plt\n",
    "from numpy.linalg import matrix_power"
   ]
  },
  {
   "cell_type": "markdown",
   "metadata": {},
   "source": [
    "## Parameters"
   ]
  },
  {
   "cell_type": "code",
   "execution_count": 4,
   "metadata": {},
   "outputs": [],
   "source": [
    "number_steps = 1000\n",
    "standard_deviation = 1\n",
    "\n",
    "# transition matrix\n",
    "P = np.array([\n",
    "    [0.5, 0.3, 0.1, 0.1],\n",
    "    [0.0, 0.6, 0.38, 0.02],\n",
    "    [0.33, 0.27, 0.28, 0.12],\n",
    "    [0.05, 0.35, 0.6, 0.0],\n",
    "])\n",
    "\n",
    "\n",
    "# P = np.array([\n",
    "#     [0, 1],\n",
    "#     [1, 0]\n",
    "# ])\n"
   ]
  },
  {
   "cell_type": "markdown",
   "metadata": {},
   "source": [
    "## Algorithm\n"
   ]
  },
  {
   "cell_type": "code",
   "execution_count": 5,
   "metadata": {},
   "outputs": [],
   "source": [
    "def MC(P, method=\"limiting results\") -> np.array:\n",
    "    '''\n",
    "    _summary_\n",
    "\n",
    "    Args:\n",
    "        P: _description_\n",
    "        method: _description_. Defaults to \"limiting results\".\n",
    "\n",
    "    Returns:\n",
    "        _description_\n",
    "    '''\n",
    "\n",
    "    if method == \"limiting results\":\n",
    "        pi = matrix_power(P,100)[0]\n",
    "    elif method == \"steady state results\":\n",
    "        Q = np.c_[(P - np.eye(len(P))), np.ones(len(P))]\n",
    "        b = np.r_[np.zeros(len(P)), 1] \n",
    "        pi = np.linalg.solve(np.dot(Q, Q.T) ,np.dot(b, Q.T))\n",
    "\n",
    "\n",
    "    return pi"
   ]
  },
  {
   "cell_type": "code",
   "execution_count": 14,
   "metadata": {},
   "outputs": [
    {
     "name": "stdout",
     "output_type": "stream",
     "text": [
      " [0.20829661 0.42018129 0.30561501 0.06590709] \n",
      " [0.20829661 0.42018129 0.30561501 0.06590709]\n"
     ]
    }
   ],
   "source": [
    "pi = matrix_power(P,100)\n",
    "pi"
   ]
  },
  {
   "cell_type": "code",
   "execution_count": 103,
   "metadata": {},
   "outputs": [
    {
     "data": {
      "image/png": "[encoded data removed]",
      "text/plain": [
       "<Figure size 640x480 with 1 Axes>"
      ]
     },
     "metadata": {},
     "output_type": "display_data"
    }
   ],
   "source": [
    "# or\n",
    "for i in range(4):\n",
    "    pi_0 = np.random.random(size=len(P))\n",
    "    pi_0 = pi_0/sum(pi_0)\n",
    "    pis=[]\n",
    "    pi_n=pi_0\n",
    "    for n in range(10):\n",
    "        pi_n = pi_n@P\n",
    "        pis.append(pi_n[0])\n",
    "    plt.plot(pis, \"x--k\", linewidth=0.5)\n",
    "\n",
    "plt.grid()"
   ]
  },
  {
   "cell_type": "code",
   "execution_count": 111,
   "metadata": {},
   "outputs": [
    {
     "data": {
      "text/plain": [
       "array([0.20829661, 0.42018129, 0.30561501, 0.06590709])"
      ]
     },
     "execution_count": 111,
     "metadata": {},
     "output_type": "execute_result"
    }
   ],
   "source": [
    "Q = np.c_[(P - np.eye(len(P))), np.ones(len(P))]\n",
    "b = np.r_[np.zeros(len(P)), 1] \n",
    "pi = np.linalg.solve(np.dot(Q, Q.T) ,np.dot(b, Q.T))\n",
    "\n",
    "pi"
   ]
  },
  {
   "cell_type": "markdown",
   "metadata": {},
   "source": [
    "# Plotting the distribution"
   ]
  },
  {
   "cell_type": "code",
   "execution_count": 107,
   "metadata": {},
   "outputs": [
    {
     "name": "stderr",
     "output_type": "stream",
     "text": [
      "/Users/abdelrahmanaltawil/opt/miniconda3/envs/ML/lib/python3.10/site-packages/seaborn/_oldcore.py:1498: FutureWarning: is_categorical_dtype is deprecated and will be removed in a future version. Use isinstance(dtype, CategoricalDtype) instead\n",
      "  if pd.api.types.is_categorical_dtype(vector):\n",
      "/Users/abdelrahmanaltawil/opt/miniconda3/envs/ML/lib/python3.10/site-packages/seaborn/_oldcore.py:1498: FutureWarning: is_categorical_dtype is deprecated and will be removed in a future version. Use isinstance(dtype, CategoricalDtype) instead\n",
      "  if pd.api.types.is_categorical_dtype(vector):\n",
      "/Users/abdelrahmanaltawil/opt/miniconda3/envs/ML/lib/python3.10/site-packages/seaborn/_oldcore.py:1119: FutureWarning: use_inf_as_na option is deprecated and will be removed in a future version. Convert inf values to NaN before operating instead.\n",
      "  with pd.option_context('mode.use_inf_as_na', True):\n"
     ]
    },
    {
     "data": {
      "image/png": "[encoded data removed]",
      "text/plain": [
       "<Figure size 640x480 with 1 Axes>"
      ]
     },
     "metadata": {},
     "output_type": "display_data"
    }
   ],
   "source": [
    "import seaborn as sns\n",
    "\n",
    "sns.histplot(x=np.arange(len(P)), weights=pi, discrete=True, color='darkblue', edgecolor='black')\n",
    "\n",
    "plt.show()"
   ]
  },
  {
   "cell_type": "code",
   "execution_count": null,
   "metadata": {},
   "outputs": [],
   "source": []
  },
  {
   "cell_type": "markdown",
   "metadata": {},
   "source": [
    "## Results Visualization & Behaver Analysis\n"
   ]
  },
  {
   "cell_type": "code",
   "execution_count": null,
   "metadata": {},
   "outputs": [],
   "source": []
  },
  {
   "cell_type": "markdown",
   "metadata": {},
   "source": [
    "## Irreducibility"
   ]
  },
  {
   "cell_type": "markdown",
   "metadata": {},
   "source": [
    "## Alternating Behavior"
   ]
  },
  {
   "cell_type": "markdown",
   "metadata": {},
   "source": []
  }
 ],
 "metadata": {
  "kernelspec": {
   "display_name": "Python 3",
   "language": "python",
   "name": "python3"
  },
  "language_info": {
   "codemirror_mode": {
    "name": "ipython",
    "version": 3
   },
   "file_extension": ".py",
   "mimetype": "text/x-python",
   "name": "python",
   "nbconvert_exporter": "python",
   "pygments_lexer": "ipython3",
   "version": "3.10.15"
  }
 },
 "nbformat": 4,
 "nbformat_minor": 2
}
