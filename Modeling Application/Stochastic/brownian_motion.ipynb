{
 "cells": [
  {
   "cell_type": "markdown",
   "metadata": {},
   "source": [
    "Brownian Motion\n",
    "======="
   ]
  },
  {
   "cell_type": "markdown",
   "metadata": {},
   "source": [
    "# Theory\n",
    "\n",
    "## Definition\n",
    "\n",
    "### Algorithm\n",
    "\n",
    "\n",
    "## Examples\n"
   ]
  },
  {
   "cell_type": "markdown",
   "metadata": {},
   "source": [
    "# Implementation\n"
   ]
  },
  {
   "cell_type": "markdown",
   "metadata": {},
   "source": [
    "## Imports"
   ]
  },
  {
   "cell_type": "code",
   "execution_count": 2,
   "metadata": {},
   "outputs": [],
   "source": [
    "import matplotlib\n",
    "import numpy as np\n",
    "import pandas as pd\n",
    "from typing import Callable\n",
    "import matplotlib.pyplot as plt\n",
    "from matplotlib.animation import FuncAnimation, PillowWriter\n",
    "matplotlib.rcParams['animation.embed_limit'] = 2**128"
   ]
  },
  {
   "cell_type": "markdown",
   "metadata": {},
   "source": [
    "## Parameters"
   ]
  },
  {
   "cell_type": "code",
   "execution_count": 38,
   "metadata": {},
   "outputs": [],
   "source": [
    "number_steps = 1000\n",
    "standard_deviation = 1"
   ]
  },
  {
   "cell_type": "markdown",
   "metadata": {},
   "source": [
    "## Algorithm\n"
   ]
  },
  {
   "cell_type": "code",
   "execution_count": 28,
   "metadata": {},
   "outputs": [],
   "source": [
    "def BM(x_0: float, SD: float, steps: int) -> tuple[float, list, int]:\n",
    "    '''\n",
    "\n",
    "    '''\n",
    "    \n",
    "\n",
    "    states=np.zeros(steps)\n",
    "    states[0] = x_0\n",
    "\n",
    "    for i in range(steps-1):\n",
    "        \n",
    "        move = np.random.normal(0, SD)\n",
    "        states[i+1] = states[i] + move\n",
    "\n",
    "    return np.array(range(steps)), states"
   ]
  },
  {
   "cell_type": "code",
   "execution_count": 46,
   "metadata": {},
   "outputs": [],
   "source": [
    "def BM_distribution(x_0: float, SD: float, steps: int, samples: int) -> tuple[float, list, int]:\n",
    "    '''\n",
    "    Compute the distribution of the Wiener process\n",
    "    '''\n",
    "\n",
    "    mu = 0\n",
    "    sigma = SD\n",
    "    \n",
    "    r = 1/steps\n",
    "    t = steps*r\n",
    "\n",
    "    distribution_samples = np.zeros(samples)\n",
    "\n",
    "    for i in range(samples):\n",
    "        \n",
    "        wiener = np.random.normal(0, t)\n",
    "        distribution_samples[i] = x_0 + mu*(t/r) + (np.sqrt(sigma)/np.sqrt(r))*wiener\n",
    "\n",
    "    return distribution_samples"
   ]
  },
 ],
 "metadata": {
  "kernelspec": {
   "display_name": "Python 3",
   "language": "python",
   "name": "python3"
  },
  "language_info": {
   "codemirror_mode": {
    "name": "ipython",
    "version": 3
   },
   "file_extension": ".py",
   "mimetype": "text/x-python",
   "name": "python",
   "nbconvert_exporter": "python",
   "pygments_lexer": "ipython3",
   "version": "3.10.9"
  }
 },
 "nbformat": 4,
 "nbformat_minor": 2
}
