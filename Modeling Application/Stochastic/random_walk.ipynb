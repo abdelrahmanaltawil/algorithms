  {
   "cell_type": "markdown",
   "metadata": {},
   "source": [
    "## Imports"
   ]
  },
  {
   "cell_type": "code",
   "execution_count": 2,
   "metadata": {},
   "outputs": [],
   "source": [
    "import matplotlib\n",
    "import numpy as np\n",
    "import pandas as pd\n",
    "from typing import Callable\n",
    "import matplotlib.pyplot as plt\n",
    "from matplotlib.animation import FuncAnimation, PillowWriter\n",
    "matplotlib.rcParams['animation.embed_limit'] = 2**128"
   ]
  },
  {
   "cell_type": "markdown",
   "metadata": {},
   "source": [
    "## Parameters"
   ]
  },
  {
   "cell_type": "markdown",
   "metadata": {},
   "source": [
    "## Algorithm\n"
   ]
  },
  {
   "cell_type": "code",
   "execution_count": 118,
   "metadata": {},
   "outputs": [],
   "source": [
    "def RW(x_0: float, p: list[float], steps: int) -> tuple[float, list, int]:\n",
    "    '''\n",
    "\n",
    "    '''\n",
    "\n",
    "    states=np.zeros(steps)\n",
    "    states[0] = x_0\n",
    "\n",
    "    for i in range(steps-1):\n",
    "        \n",
    "        move = np.random.choice([1, -1], p=p)\n",
    "        states[i+1] = states[i] + move\n",
    "\n",
    "    return np.array(range(steps)), states"
   ]
  },
