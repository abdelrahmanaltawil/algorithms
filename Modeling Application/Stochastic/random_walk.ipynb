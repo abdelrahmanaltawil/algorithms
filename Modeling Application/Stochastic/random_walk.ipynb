{
 "cells": [
  {
   "cell_type": "markdown",
   "metadata": {},
   "source": [
    "Random Walk\n",
    "======="
   ]
  },
  {
   "cell_type": "markdown",
   "metadata": {},
   "source": [
    "# Theory\n",
    "\n",
    "## Definition\n",
    "\n",
    "### Algorithm\n",
    "\n",
    "\n",
    "## Examples\n"
   ]
  },
  {
   "cell_type": "markdown",
   "metadata": {},
   "source": [
    "# Implementation\n"
   ]
  },
  {
   "cell_type": "markdown",
   "metadata": {},
   "source": [
    "## Imports"
   ]
  },
  {
   "cell_type": "code",
   "execution_count": 2,
   "metadata": {},
   "outputs": [],
   "source": [
    "import matplotlib\n",
    "import numpy as np\n",
    "import pandas as pd\n",
    "from typing import Callable\n",
    "import matplotlib.pyplot as plt\n",
    "from matplotlib.animation import FuncAnimation, PillowWriter\n",
    "matplotlib.rcParams['animation.embed_limit'] = 2**128"
   ]
  },
  {
   "cell_type": "markdown",
   "metadata": {},
   "source": [
    "## Parameters"
   ]
  },
  {
   "cell_type": "markdown",
   "metadata": {},
   "source": [
    "## Algorithm\n"
   ]
  },
  {
   "cell_type": "code",
   "execution_count": 212,
   "metadata": {},
   "outputs": [],
   "source": [
    "def RW(x_0: float, p: list[float], steps: int) -> tuple[float, list, int]:\n",
    "    '''\n",
    "\n",
    "    '''\n",
    "\n",
    "    states=np.zeros(steps)\n",
    "    states[0] = x_0\n",
    "\n",
    "    for i in range(steps-1):\n",
    "        \n",
    "        move = np.random.choice([1, -1], p=p)\n",
    "        states[i+1] = states[i] + move\n",
    "\n",
    "    return np.array(range(steps)), states"
   ]
  },
  {
   "cell_type": "code",
   "execution_count": 228,
   "metadata": {},
   "outputs": [],
   "source": [
    "def RW1(x_0: float, p: list[float], steps: int) -> tuple[float, list, int]:\n",
    "    '''\n",
    "    Computing where the random walk process will end based on stochastic process formula\n",
    "    defined by the standard Wiener process\n",
    "    '''\n",
    "\n",
    "    mu = 2*p[0] - 1\n",
    "    sigma_square = 4*p[0]*(1 - p[0])\n",
    "    \n",
    "    r = 0.0001\n",
    "    t = steps*r\n",
    "\n",
    "    states=np.zeros(steps)\n",
    "    states[0] = x_0\n",
    "\n",
    "    for i in range(steps-1):\n",
    "        \n",
    "        wiener = np.random.normal(0, t)\n",
    "        states[i+1] = x_0 + mu*(t/r) + (np.sqrt(sigma_square)/np.sqrt(r))*wiener\n",
    "\n",
    "    return np.array(range(steps)), states"
   ]
  },
