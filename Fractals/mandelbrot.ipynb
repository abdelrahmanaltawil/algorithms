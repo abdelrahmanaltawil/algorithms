{
 "cells": [
  {
   "cell_type": "markdown",
   "metadata": {},
   "source": [
    "Mandelbrot Set\n",
    "========"
   ]
  },
  {
   "cell_type": "markdown",
   "metadata": {},
   "source": [
    "# Theory\n",
    "It is a two-dimensional set with a relatively simple definition that exhibits a fractal structures, as it is magnified.\n",
    "\n",
    "## Definition\n",
    "Given this iterative formula\n",
    "$$\n",
    "\\begin{equation}\n",
    "z_{n+1} = z_n^2 + c\n",
    "\\end{equation}$$\n",
    " \n",
    "The mandelbrot set is the set of numbers $c$ on the complex plane that cause the following iterative formula to remain bounded through all $n > 0$ when $z_0 = 0$, specifically $|z_n| \\leq 2$. \n",
    "\n",
    "## Examples\n",
    "Find if the folowing numbers $c = {1, -1}$ belong to mandelbrot set.\n",
    "- $c = 1$\n",
    "$$\n",
    "\\begin{align*}\n",
    "z_1 &= z_0^2 + 1 = (0)^2 + 1 = 1 \\\\[5pt]\n",
    "z_2 &= z_1^2 + 1 = (1)^2 + 1 = 2 \\\\[5pt]\n",
    "z_3 &= z_2^2 + 1 = (2)^2 + 1 = 5 \\\\[5pt]\n",
    "z_4 &= z_3^2 + 1 = (5)^2 + 1 = 26\n",
    "\\end{align*}$$\n",
    "The sequence is unbounded and it will eventually will diverge to infinity\n",
    "\n",
    "- $c = -1$\n",
    "$$\n",
    "\\begin{align*}\n",
    "z_1 &= z_0^2 + 1 = (0)^2 + (-1) = 1 \\\\[5pt]\n",
    "z_2 &= z_1^2 + 1 = (-1)^2 + (-1) = 0 \\\\[5pt]\n",
    "z_3 &= z_2^2 + 1 = (0)^2 + (-1) = 1 \\\\[5pt]\n",
    "z_4 &= z_3^2 + 1 = (0)^2 + (-1) = 0 \n",
    "\\end{align*}$$\n",
    "The sequence will remain bounded by $|z_n| \\leq 1$"
   ]
  },
  {
   "cell_type": "markdown",
   "metadata": {},
   "source": [
    "# Implementation\n"
   ]
  },
  {
   "cell_type": "markdown",
   "metadata": {},
   "source": [
    "## Imports"
   ]
  },
  {
   "cell_type": "code",
   "execution_count": 34,
   "metadata": {},
   "outputs": [],
   "source": [
    "import numpy as np\n",
    "import pandas as pd\n",
    "from sympy.abc import x\n",
    "from typing import Callable\n",
    "import matplotlib.pyplot as plt"
   ]
  },
  {
   "cell_type": "markdown",
   "metadata": {},
   "source": [
    "## Parameters"
   ]
  },
  {
   "cell_type": "code",
   "execution_count": 35,
   "metadata": {},
   "outputs": [],
   "source": [
    "N = 500"
   ]
  },
  {
   "cell_type": "markdown",
   "metadata": {},
   "source": [
    "## Algorithm\n"
   ]
  },
  {
   "cell_type": "code",
   "execution_count": 36,
   "metadata": {},
   "outputs": [],
   "source": [
    "def mandelbrot_set(N: int) -> list[list]:\n",
    "    '''\n",
    "    _summary_\n",
    "\n",
    "    Args:\n",
    "        N: _description_\n",
    "\n",
    "    Returns:\n",
    "        _description_\n",
    "    '''\n",
    "\n",
    "    real = np.linspace(-2, 2, num=N)\n",
    "    complex = np.linspace(-2j, 2j, num=N, dtype=np.complex128)\n",
    "    real, complex = np.meshgrid(real, complex)\n",
    "    c_grid = real + complex\n",
    "\n",
    "    imag = np.zeros_like(c_grid, dtype=np.int64)\n",
    "\n",
    "    for i, row in enumerate(c_grid): \n",
    "        for j, c in enumerate(row):\n",
    "            z = 0\n",
    "            for k in range(100):\n",
    "                z = z**2 + c\n",
    "\n",
    "                if np.abs(z) > 2:\n",
    "                    imag[i][j] = 0\n",
    "                    break\n",
    "                if k == 9:\n",
    "                    imag[i][j] = 1\n",
    "    \n",
    "    return imag"
   ]
  },
  {
   "cell_type": "code",
   "execution_count": 63,
   "metadata": {},
   "outputs": [],
   "source": [
    "img = mandelbrot_set(N=N)"
   ]
  },
  {
   "cell_type": "code",
   "execution_count": 64,
   "metadata": {},
   "outputs": [
    {
     "data": {
      "text/plain": [
       "<matplotlib.image.AxesImage at 0x169414130>"
      ]
     },
     "execution_count": 64,
     "metadata": {},
     "output_type": "execute_result"
    },
    {
     "data": {
      "image/png": "[encoded data removed]",
      "text/plain": [
       "<Figure size 640x480 with 1 Axes>"
      ]
     },
     "metadata": {},
     "output_type": "display_data"
    }
   ],
   "source": [
    "plt.imshow(img, cmap=\"gray\")"
   ]
  },
  {
   "cell_type": "code",
   "execution_count": null,
   "metadata": {},
   "outputs": [],
   "source": []
  },
  {
   "cell_type": "code",
   "execution_count": null,
   "metadata": {},
   "outputs": [],
   "source": []
  }
 ],
 "metadata": {
  "kernelspec": {
   "display_name": "ML",
   "language": "python",
   "name": "python3"
  },
  "language_info": {
   "codemirror_mode": {
    "name": "ipython",
    "version": 3
   },
   "file_extension": ".py",
   "mimetype": "text/x-python",
   "name": "python",
   "nbconvert_exporter": "python",
   "pygments_lexer": "ipython3",
   "version": "3.10.9"
  }
 },
 "nbformat": 4,
 "nbformat_minor": 2
}
