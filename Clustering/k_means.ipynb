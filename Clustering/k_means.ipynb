{
 "cells": [
  {
   "cell_type": "code",
   "execution_count": 3,
   "metadata": {},
   "outputs": [],
   "source": [
    "import numpy as np\n",
    "import matplotlib.pyplot as plt\n",
    "from dataclasses import dataclass"
   ]
  },
  {
   "cell_type": "code",
   "execution_count": 48,
   "metadata": {},
   "outputs": [
    {
     "data": {
      "text/plain": [
       "array([[18.87568366, 13.27280225],\n",
       "       [ 6.92110736, 13.95924931],\n",
       "       [12.49670139, 13.9247935 ],\n",
       "       [ 4.17521807,  6.86639484],\n",
       "       [ 5.43540415,  0.51004378],\n",
       "       [ 8.98741636, 15.22603405],\n",
       "       [ 7.16511006, 10.68172619],\n",
       "       [12.77182197,  0.75685692],\n",
       "       [19.60467166, 17.8996587 ],\n",
       "       [14.90872193, 17.04523281],\n",
       "       [10.57637027, 11.52965545],\n",
       "       [ 7.38926541, 11.24321495],\n",
       "       [18.06674048,  3.60839424],\n",
       "       [18.28852257,  7.05652822],\n",
       "       [ 4.30799627, 19.33060783],\n",
       "       [ 4.42548129, 10.97167468],\n",
       "       [ 6.12941182, 16.11925481],\n",
       "       [12.7355444 ,  1.46821149],\n",
       "       [17.50433592, 14.14030645],\n",
       "       [ 6.87983668, 13.07937088],\n",
       "       [ 5.34889137, 16.019566  ],\n",
       "       [ 1.31148825, 11.87184247],\n",
       "       [14.84542595,  1.58202696],\n",
       "       [ 4.82662062,  1.06032527],\n",
       "       [17.52937174,  7.0085957 ],\n",
       "       [ 2.84190516,  5.06686241],\n",
       "       [ 9.61683082, 17.51037294],\n",
       "       [ 6.03732281, 11.40833528],\n",
       "       [ 9.58860198,  2.13001743],\n",
       "       [16.84887897,  2.37016428],\n",
       "       [ 3.52850669,  9.70429669],\n",
       "       [16.37736066,  5.9713513 ],\n",
       "       [12.94628992,  2.87430345],\n",
       "       [11.17233159,  7.20545684],\n",
       "       [ 6.59652132,  2.4485323 ],\n",
       "       [ 5.32073296,  8.39724549],\n",
       "       [ 5.81977023,  7.38534212],\n",
       "       [19.88530788,  7.30430036],\n",
       "       [ 9.84322462, 19.68255409],\n",
       "       [13.66844805, 11.6891485 ],\n",
       "       [ 8.71710932, 11.92632145],\n",
       "       [ 7.63404671,  4.17503789],\n",
       "       [ 0.82479214,  1.31965025],\n",
       "       [ 3.74974961, 13.888469  ],\n",
       "       [16.58923569, 12.28732354],\n",
       "       [ 1.30652302,  9.48727162],\n",
       "       [12.41647791, 18.6179054 ],\n",
       "       [16.69225505, 11.44263962],\n",
       "       [ 0.7547584 , 16.5509236 ],\n",
       "       [ 5.27328889, 14.94375135],\n",
       "       [ 8.50329236, 12.23042394],\n",
       "       [15.6043298 , 10.42850519],\n",
       "       [16.18376245, 11.56935357],\n",
       "       [12.63337947, 16.64239537],\n",
       "       [ 2.65579458,  2.4264154 ],\n",
       "       [19.95644724,  4.62948281],\n",
       "       [ 1.22700779,  1.62978561],\n",
       "       [ 5.62557669,  7.97165333],\n",
       "       [ 5.875907  ,  2.0620275 ],\n",
       "       [ 3.04596425,  0.48676395],\n",
       "       [14.94085103,  1.33399733],\n",
       "       [16.1420559 , 10.28401242],\n",
       "       [17.85783969, 13.1028896 ],\n",
       "       [ 3.50506685, 17.91170603],\n",
       "       [ 7.10693199, 11.75059893],\n",
       "       [ 0.95369607, 13.56620816],\n",
       "       [ 6.33797382, 15.5717945 ],\n",
       "       [ 9.42626593, 11.58267185],\n",
       "       [10.56532504, 16.57258707],\n",
       "       [18.29715319, 15.41111512],\n",
       "       [ 8.54214899, 11.25514615],\n",
       "       [ 3.93265863, 11.12454308],\n",
       "       [ 6.66246082, 15.92102183],\n",
       "       [12.349949  ,  7.4544339 ],\n",
       "       [11.12154065,  4.22826997],\n",
       "       [15.88127003,  3.91911944],\n",
       "       [15.2325151 , 14.96995945],\n",
       "       [16.09383349,  8.64257521],\n",
       "       [ 9.77424507, 10.28103058],\n",
       "       [14.99945915, 10.86135267],\n",
       "       [ 6.79680608,  5.91584774],\n",
       "       [13.25715666, 19.49322294],\n",
       "       [ 8.51817885, 17.03941722],\n",
       "       [18.70257287,  0.23516659],\n",
       "       [ 1.59541042, 18.33873581],\n",
       "       [ 0.71056348,  8.89189364],\n",
       "       [ 2.22552953, 11.72520048],\n",
       "       [19.54640984,  4.62925321],\n",
       "       [ 8.62958001, 17.90539022],\n",
       "       [19.06956679, 12.22539483],\n",
       "       [10.66929911, 19.46642416],\n",
       "       [12.78379723,  1.78272985],\n",
       "       [ 9.38759817, 19.02647272],\n",
       "       [17.76745776,  2.45554357],\n",
       "       [16.92395595, 14.79177875],\n",
       "       [ 2.7353992 , 16.40869232],\n",
       "       [13.31875931, 18.63227754],\n",
       "       [ 1.58539539,  7.58260253],\n",
       "       [15.30697129, 11.36939968],\n",
       "       [14.5917571 ,  6.35856533]])"
      ]
     },
     "execution_count": 48,
     "metadata": {},
     "output_type": "execute_result"
    }
   ],
   "source": [
    "points = np.random.random(size=(100,2))*20\n",
    "# points = np.array([[5, 3],[-1, 1],[1, -2],[-3, -2]])\n",
    "points"
   ]
  },
  {
   "cell_type": "code",
   "execution_count": 4,
   "metadata": {},
   "outputs": [],
   "source": [
    "def random_seed() -> tuple:\n",
    "    '''\n",
    "    Generate random seed with in the set point provided in the problem, the \n",
    "    seed is generated base on uniform distribution \n",
    "\n",
    "    Returns:\n",
    "        uniformly random point\n",
    "    '''\n",
    "\n",
    "    return [np.random.uniform(points[:,0].min(), points[:,0].max()), \n",
    "            np.random.uniform(points[:,1].min(), points[:,1].max())]"
   ]
  },
  {
   "cell_type": "code",
   "execution_count": 5,
   "metadata": {},
   "outputs": [],
   "source": [
    "k = 3\n",
    "\n",
    "@dataclass\n",
    "class Cluster:\n",
    "    centroid: list[float]\n",
    "    members: list[float, float]\n",
    "\n",
    "clusters = [Cluster(centroid=random_seed(), members=[]) for _ in range(k)]\n",
    "\n",
    "for i in range(10):\n",
    "\n",
    "    for x,y in points:\n",
    "        # distance to point\n",
    "        distances = [(x-cluster.centroid[0])**2 + (y-cluster.centroid[1])**2 \n",
    "                     for cluster in clusters]\n",
    "\n",
    "        min_index = np.argmin(distances)\n",
    "        clusters[min_index].members.append([x,y])\n",
    "\n",
    "    for cluster in clusters:\n",
    "        cluster.centroid = np.mean(cluster.members, axis=0) if cluster.members else random_seed()\n",
    "        if i != 9:\n",
    "            cluster.members=[]"
   ]
  },
  {
   "cell_type": "code",
   "execution_count": 6,
   "metadata": {},
   "outputs": [
    {
     "data": {
      "image/png": "[encoded data removed]",
      "text/plain": [
       "<Figure size 640x480 with 1 Axes>"
      ]
     },
     "metadata": {},
     "output_type": "display_data"
    }
   ],
   "source": [
    "plt.scatter(points[:,0], points[:,1])\n",
    "\n",
    "for cluster in clusters:\n",
    "    if cluster.members:\n",
    "        plt.scatter(np.array(cluster.members)[:,0], \n",
    "                    np.array(cluster.members)[:,1])\n"
   ]
  },
  {
   "cell_type": "code",
   "execution_count": null,
   "metadata": {},
   "outputs": [],
   "source": []
  }
 ],
 "metadata": {
  "kernelspec": {
   "display_name": "Python 3",
   "language": "python",
   "name": "python3"
  },
  "language_info": {
   "codemirror_mode": {
    "name": "ipython",
    "version": 3
   },
   "file_extension": ".py",
   "mimetype": "text/x-python",
   "name": "python",
   "nbconvert_exporter": "python",
   "pygments_lexer": "ipython3",
   "version": "3.10.15"
  }
 },
 "nbformat": 4,
 "nbformat_minor": 2
}
