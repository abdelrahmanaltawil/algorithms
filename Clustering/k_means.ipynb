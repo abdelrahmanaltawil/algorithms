{
 "cells": [
  {
   "cell_type": "code",
   "execution_count": 7,
   "metadata": {},
   "outputs": [],
   "source": [
    "import numpy as np\n",
    "import matplotlib.pyplot as plt"
   ]
  },
  {
   "cell_type": "code",
   "execution_count": 83,
   "metadata": {},
   "outputs": [
    {
     "data": {
      "text/plain": [
       "array([[ 5,  3],\n",
       "       [-1,  1],\n",
       "       [ 1, -2],\n",
       "       [-3, -2]])"
      ]
     },
     "execution_count": 83,
     "metadata": {},
     "output_type": "execute_result"
    }
   ],
   "source": [
    "points = np.random.random(size=(10,2))*20\n",
    "points = np.array([[5, 3],[-1, 1],[1, -2],[-3, -2]])\n",
    "points"
   ]
  },
  {
   "cell_type": "code",
   "execution_count": 86,
   "metadata": {},
   "outputs": [],
   "source": [
    "# 2 clusters with centroids ci\n",
    "c1 = (4,4)\n",
    "c2 = (10,2)\n",
    "\n",
    "\n",
    "for i in range(10):\n",
    "\n",
    "    cluster1, cluster2 = [],[]\n",
    "    for x,y in points:\n",
    "        # distance to c_1\n",
    "        dis1 = (x-c1[0])**2 + (y-c1[0])**2\n",
    "\n",
    "        # distance to c_2\n",
    "        dis2 = (x-c2[0])**2 + (y-c2[0])**2\n",
    "\n",
    "        if dis1 <= dis2:\n",
    "            cluster1.append([x,y])\n",
    "        elif dis2 < dis1:\n",
    "            cluster2.append([x,y])\n",
    "        \n",
    "    c1 = np.mean(cluster1, axis=0) if cluster1 else (0,0)\n",
    "    c2 = np.mean(cluster2, axis=0) if cluster2 else (0,0)\n"
   ]
  },
  {
   "cell_type": "code",
   "execution_count": 87,
   "metadata": {},
   "outputs": [],
   "source": [
    "cluster1, cluster2 = np.array(cluster1), np.array(cluster2)"
   ]
  },
  {
   "cell_type": "code",
   "execution_count": 88,
   "metadata": {},
   "outputs": [
    {
     "data": {
      "text/plain": [
       "<matplotlib.collections.PathCollection at 0x128703010>"
      ]
     },
     "execution_count": 88,
     "metadata": {},
     "output_type": "execute_result"
    },
    {
     "data": {
      "image/png": "[encoded data removed]",
      "text/plain": [
       "<Figure size 640x480 with 1 Axes>"
      ]
     },
     "metadata": {},
     "output_type": "display_data"
    }
   ],
   "source": [
    "plt.scatter(points[:,0], points[:,1])\n",
    "\n",
    "plt.scatter(cluster1[:,0], cluster1[:,1])\n",
    "plt.scatter(cluster2[:,0], cluster2[:,1])"
   ]
  },
  {
   "cell_type": "code",
   "execution_count": null,
   "metadata": {},
   "outputs": [],
   "source": []
  }
 ],
 "metadata": {
  "kernelspec": {
   "display_name": "Python 3",
   "language": "python",
   "name": "python3"
  },
  "language_info": {
   "codemirror_mode": {
    "name": "ipython",
    "version": 3
   },
   "file_extension": ".py",
   "mimetype": "text/x-python",
   "name": "python",
   "nbconvert_exporter": "python",
   "pygments_lexer": "ipython3",
   "version": "3.10.15"
  }
 },
 "nbformat": 4,
 "nbformat_minor": 2
}
