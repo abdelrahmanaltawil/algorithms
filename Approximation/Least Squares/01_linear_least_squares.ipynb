{
 "cells": [
  {
   "cell_type": "markdown",
   "metadata": {},
   "source": [
    "Linear Least Squares\n",
    "========"
   ]
  },
  {
   "cell_type": "markdown",
   "metadata": {},
   "source": [
    "# Theory\n",
    "**Least Squares (LS)** is a curve fitting method that is primarily estimate the parameters of a chosen model function to best approximate the general trend of a given data set.\n",
    "\n",
    "## Definition\n",
    "**Least Squares (LS)** strategy to estimate the model function parameters, that best fit the data; is to minimize the sum of the squares of the residuals (a residual being the error between the observed value provided by data and the fitted value provided by a model function).\n",
    "\n",
    "Formally, the minimization problem that **LS** presented is\n",
    "$$\n",
    "\\begin{equation}\n",
    "\\text{LS} := \\min \\sum_{i=1}^n r_i^2 \\qquad \\text{,where} \\quad r_i = \\hat{f}(\\mathbf{x}_i\\,, \\beta) - y_i\n",
    "\\end{equation}$$\n",
    "\n",
    "where for a data set of $n$ points $(\\mathbf{x}, y)$, a model function $(\\hat{f}(\\mathbf{x}, \\beta))$, and a residual (r). We want to find parameters $\\beta$ that minimize the sum of the squared residuals above.\n",
    "\n",
    "> To elaborate  more, **LS** method view the parameters $\\beta$ as the variables and $\\mathbf{x}$ data points as given constant weights in the model function, hence the minimization stepup would solve for $\\beta$. For this to work the number of data points $n$ has to be greater than or equal to the number of parameters of the model function.\n",
    "\n",
    "**Linear Least Squares (LLS)** is a type of **LS** method that deals with the category of model functions that their parameters $\\beta$ are independent and linearly combined. The general form such model functions is\n",
    "$$\n",
    "\\begin{equation}\n",
    "\\hat{f}(\\mathbf{x}, \\beta) = \\beta_1 \\phi_1(\\mathbf{x}) + \\beta_2 \\phi_2(\\mathbf{x}) + \\dots + \\beta_n \\phi_n(\\mathbf{x})\n",
    "\\end{equation}$$\n",
    "\n",
    "A valid example of such model function\n",
    "$$\n",
    "\\begin{equation*}\n",
    "\\hat{f}(\\mathbf{x},\\beta) = \\beta_1 + \\beta_2 \\mathbf{x} + \\beta_3 \\mathbf{x}^2 + \\beta_4 \\sin(4\\mathbf{x}) + \\beta_5 \\ln(2\\mathbf{x})\n",
    "\\end{equation*}$$\n",
    "\n",
    "To solve for optimal $\\beta$ in **LLS**, there is two approach to achieve this minimization task\n",
    "- Exploiting linear algebra concepts\n",
    "- Exploiting multivariate calculus concepts\n",
    "\n",
    "### Linear Algebra Approach  \n",
    "Lets write explicitly the linear system, since $\\beta$ are linearly combined; of residuals equations\n",
    "$$\n",
    "\\begin{align*}\n",
    "\\overbrace{\\beta_1 \\phi_1(\\mathbf{x}_1) + \\beta_2 \\phi_2(\\mathbf{x}_1) + \\dots + \\beta_n \\phi_n(\\mathbf{x}_1) \\vphantom{\\Large f^{(k)}}}^{\\normalsize \\hat{f}(\\mathbf{x}, \\beta)} - \\overbrace{y_1 \\vphantom{\\Large f^{(k)}}}^{\\normalsize y_i} \\; &= \\overbrace{r_1 \\vphantom{\\Large f^{(k)}}}^{\\normalsize r_i} \\\\[5pt]\n",
    "\\beta_1 \\phi_1(\\mathbf{x}_2) + \\beta_2 \\phi_2(\\mathbf{x}_2) + \\dots + \\beta_n \\phi_n(\\mathbf{x}_2) - y_2 &= r_2 \\\\[5pt]\n",
    "\\beta_1 \\phi_1(\\mathbf{x}_m) + \\beta_2 \\phi_2(\\mathbf{x}_m) + \\dots + \\beta_n \\phi_n(\\mathbf{x}_m) - y_m \\; &= \\;\\,r_m\n",
    "\\end{align*}$$\n",
    "\n",
    "This system of linear equations can be expressed in matrix form\n",
    "$$\n",
    "\\begin{equation*}\n",
    "\\textbf{A} \\vec{\\beta} - \\vec{y} = \\vec{r}\n",
    "\\end{equation*}$$\n",
    "\n",
    "where $\\textbf{A} = \\phi_i(\\mathbf{x}_j) \\in \\mathbb{R}^{m \\times n}$ is the constant weights matrix (model matrix), $\\vec{\\beta} \\in \\mathbb{R}^{n}$ model parameters vector, $\\vec{y} \\in \\mathbb{R}^{m}$ observed values vector, and $\\vec{r} \\in \\mathbb{R}^{m}$ is residuals vector. The minimization process in this approach is based on the following idea,\n",
    "> If the minimization process proved that $$|r|_2 = \\sqrt{r_1^2 + r_2^2 + \\dots + r_3^2}$$ is minimal, then this imply that $$\\sum_{i=1}^n r_i^2 = r_1^2 + r_2^2 + \\dots + r_3^2$$ is also minimal, hence the **least-squares problem is solved**.\n",
    "\n",
    "\n",
    "#### Graphical Representation\n",
    "To understand the minimization process in this approach, lets investigate the visual representation of simple version of this linear system. Lets consider a problem in $2\\text{D}$ of fitting a straight line to 3 data points $\\lbrace (x_1, y_1), (x_2, y_2), (x_3, y_3) \\rbrace$. The expected model function is in the form \n",
    "$$\n",
    "\\hat{f}(x, \\beta) = \\beta_1 x + \\beta_2\n",
    "$$\n",
    "\n",
    "And the linear system of residuals equations reads \n",
    "$$\n",
    "\\begin{align*}\n",
    "\\beta_1 x_1 + \\beta_2 - y_1 &= r_1 \\\\[5pt]\n",
    "\\beta_1 x_2 + \\beta_2 - y_2 &= r_2 \\\\[5pt]\n",
    "\\beta_1 x_3 + \\beta_2 - y_3 &= r_3 \\\\[5pt]\n",
    "\\end{align*}$$\n",
    "\n",
    "In matrix form\n",
    "$$\n",
    "\\begin{bmatrix}\n",
    "x_1 & 1 \\\\\n",
    "x_2 & 1 \\\\\n",
    "x_3 & 1\n",
    "\\end{bmatrix}\n",
    "\\begin{bmatrix}\n",
    "\\beta_1 \\\\\n",
    "\\beta_2\n",
    "\\end{bmatrix}\n",
    "- \n",
    "\\begin{bmatrix}\n",
    "y_1 \\\\\n",
    "y_2 \\\\\n",
    "y_3\n",
    "\\end{bmatrix}\n",
    "=\n",
    "\\begin{bmatrix}\n",
    "r_1 \\\\\n",
    "r_2 \\\\\n",
    "r_3\n",
    "\\end{bmatrix}\n",
    "$$\n",
    "\n",
    "The linear combination of the two column vectors of matrix $\\textbf{A}$ \"i.e. $\\beta_1 \\vec{a}_1 + \\beta_2 \\vec{a}_2$\" span a plane in $\\mathbb{R}^3$, since the column vectors live in $\\mathbb{R}^3$. The linear combination is factored by the parameters, hence each point in this plane correspond to the prediction of a model function with some parameters $(\\beta_1, \\beta_2)$. This can be expressed graphically\n",
    "<div style=\"text-align:center\"><img src=\"./Resources/Least Squares - column vector plane.png\" width=\"600\"/></div>\n",
    "\n",
    "Now if we consider the observation vector $(y)$ and residuals vector $(r)$ in our system. One can estimate the parameters of the model function $(\\beta_1, \\beta_2)$ by finding the linear combination of the column vectors $\\beta_1 \\vec{a}_1 + \\beta_2 \\vec{a}_2$ that minimize the euclidean length of $r$.\n",
    "> In general terms,there is two cases\n",
    "> - $(y)$ lie **in the plane** constructed by $a_1$ and $a_2$, then one can find linear combination, with parameter $(\\beta_1, \\beta_2)$ that predict $(y)$ exactly \"i.e. the model function pass through all points\", which in this case the length of vector $(r)$ is zero. This case only happen under the condition, $$ \\text{number of parameter} = \\text{number of points}$$ In this case one can solve the system of equations directly, since matrix $\\textbf{A}$ will be square hence invertible.\n",
    "> - $(y)$ is **outside the plane** constructed by $a_1$ and $a_2$, then the Euclidean length of $r$ is minimized is when $r$ is perpendicular to the plane. One can find the linear combination, with parameter $(\\beta_1, \\beta_2)$ that make this statement true. (*See the two figures below*) $$r \\perp \\hat{y}$$\n",
    "\n",
    "<div style=\"text-align:center\">\n",
    "    <img src=\"./Resources/Least Squares - residual equation.png\" width=\"400\" />\n",
    "    <img src=\"./Resources/Least Squares - normal equation.png\" width=\"400\" />\n",
    "</div>\n",
    "\n",
    "For the second case, starting from the condition $r \\perp \\hat{y}$ one will construct a new set of equations called system of normal equations that will allow us to solve for $\\vec{\\beta}$. The condition $r \\perp \\hat{y}$ imply that $r$ is also perpendicular to the plane and any vector inside it. Since the dot product between and two perpendicular vectors is zero one can write the following\n",
    "$$\n",
    "\\begin{align*}\n",
    "\\vec{a}_1 \\cdot \\vec{r} &= 0\\\\\n",
    "\\vec{a}_2 \\cdot \\vec{r} &= 0\n",
    "\\end{align*}$$\n",
    "\n",
    "Substituting $\\vec{r}$ with $\\vec{a_1} \\beta_1 + \\vec{a_2} \\beta_2 - \\vec{y}$, the system of equation reads\n",
    "$$\n",
    "\\begin{align*}\n",
    "(\\vec{a}_1 \\cdot \\vec{a_1}) \\, \\beta_1 + (\\vec{a}_1 \\cdot \\vec{a_2}) \\, \\beta_2 - (\\vec{a}_1 \\cdot \\vec{y}) &= 0\\\\\n",
    "(\\vec{a}_2 \\cdot \\vec{a_1}) \\, \\beta_1 + (\\vec{a}_2 \\cdot \\vec{a_2}) \\, \\beta_2 - (\\vec{a}_2 \\cdot \\vec{y}) &= 0\n",
    "\\end{align*}$$\n",
    "\n",
    "This system of equations is called the normal equations. Notice that the system matrix of the normal equations is symmetric, due to the commutative property of the dot product \"i.e. $(\\vec{a}_1 \\cdot \\vec{a_2}) = (\\vec{a}_2 \\cdot \\vec{a_1})$\" \n",
    "\n",
    "\n",
    "### Multivariate Calculus Approach\n",
    "\n",
    "## Examples\n"
   ]
  },
  {
   "cell_type": "markdown",
   "metadata": {},
   "source": [
    "# Implementation\n"
   ]
  },
  {
   "cell_type": "markdown",
   "metadata": {},
   "source": [
    "## Imports"
   ]
  },
  {
   "cell_type": "code",
   "execution_count": 2,
   "metadata": {},
   "outputs": [],
   "source": [
    "import numpy as np\n",
    "import sympy as sp\n",
    "import pandas as pd\n",
    "from sympy.abc import x\n",
    "from typing import Callable\n",
    "import matplotlib.pyplot as plt"
   ]
  },
  {
   "cell_type": "markdown",
   "metadata": {},
   "source": [
    "## Parameters"
   ]
  },
  {
   "cell_type": "code",
   "execution_count": 19,
   "metadata": {},
   "outputs": [],
   "source": [
    "N = 50                      # number of collocation points\n",
    "x = np.linspace(1,10, num=N)\n",
    "f = lambda x: x**3\n",
    "\n",
    "y_rnd = f(x) + 3*np.random.rand(N)\n",
    "x_rnd = x + 2*np.random.rand(N)\n",
    "\n",
    "points = np.stack((x_rnd,y_rnd), axis=1)"
   ]
  },
  {
   "cell_type": "code",
   "execution_count": 20,
   "metadata": {},
   "outputs": [
    {
     "data": {
      "text/plain": [
       "[<matplotlib.lines.Line2D at 0x15fb846a0>]"
      ]
     },
     "execution_count": 20,
     "metadata": {},
     "output_type": "execute_result"
    },
    {
     "data": {
      "image/png": "[encoded data removed]",
      "text/plain": [
       "<Figure size 640x480 with 1 Axes>"
      ]
     },
     "metadata": {},
     "output_type": "display_data"
    }
   ],
   "source": [
    "plt.plot(x_rnd,y_rnd, \"o\")"
   ]
  },
  {
   "cell_type": "markdown",
   "metadata": {},
   "source": [
    "## Algorithm\n",
    "\n"
   ]
  },
  {
   "cell_type": "code",
   "execution_count": 21,
   "metadata": {},
   "outputs": [],
   "source": [
    "def LS(points: list[float, float], order: int =1) -> tuple[Callable, list[Callable]]:\n",
    "    '''\n",
    "    _summary_\n",
    "\n",
    "    Args:\n",
    "        points: _description_\n",
    "\n",
    "    Returns:\n",
    "        _description_\n",
    "    '''\n",
    "\n",
    "    # error equations components \"i.e. Ax - c = errors\"\n",
    "    column_vectors = [points[:,0]**n for n in range(order,-1,-1)]\n",
    "    A = np.column_stack(column_vectors)\n",
    "    c = points[:,1]\n",
    "    \n",
    "    # normal equations components \"i.e. A*x = b\"\n",
    "    A_star = np.dot(A.T,A)\n",
    "    b = np.dot(A.T,c)\n",
    "    \n",
    "    x = np.linalg.solve(A_star, b)\n",
    "\n",
    "    # x = b/A_star\n",
    "\n",
    "    return x"
   ]
  },
  {
   "cell_type": "markdown",
   "metadata": {},
   "source": [
    "## Results Visualization\n"
   ]
  },
  {
   "cell_type": "code",
   "execution_count": 22,
   "metadata": {},
   "outputs": [
    {
     "data": {
      "text/plain": [
       "array([  -0.72909627,   27.03500419, -152.79235876,  233.95931555])"
      ]
     },
     "execution_count": 22,
     "metadata": {},
     "output_type": "execute_result"
    }
   ],
   "source": [
    "beta = LS(points, order=3)\n",
    "beta"
   ]
  },
  {
   "cell_type": "code",
   "execution_count": 23,
   "metadata": {},
   "outputs": [
    {
     "data": {
      "text/plain": [
       "[<matplotlib.lines.Line2D at 0x15fbf1de0>]"
      ]
     },
     "execution_count": 23,
     "metadata": {},
     "output_type": "execute_result"
    },
    {
     "data": {
      "image/png": "[encoded data removed]",
      "text/plain": [
       "<Figure size 640x480 with 1 Axes>"
      ]
     },
     "metadata": {},
     "output_type": "display_data"
    }
   ],
   "source": [
    "x = np.linspace(1,11)\n",
    "plt.plot(x_rnd,y_rnd, \"o\")\n",
    "plt.plot(x, beta[0]*x**3 + beta[1]*x**2 + beta[2]*x + beta[3], \"r\")\n",
    "# plt.plot(x, beta[0]*x**4 + beta[1]*x**3 + beta[2]*x**2 + beta[3]*x + beta[4], \"r\")\n",
    "# plt.plot(x, beta[0]*x**5 + beta[1]*x**4 + beta[2]*x**3 + beta[3]*x**2 + beta[4]*x + beta[5], \"r\")\n",
    "# plt.plot(x, beta[0]*x**2 + beta[1]*x + beta[2], \"r\")"
   ]
  },
  {
   "cell_type": "code",
   "execution_count": null,
   "metadata": {},
   "outputs": [],
   "source": []
  },
  {
   "cell_type": "code",
   "execution_count": null,
   "metadata": {},
   "outputs": [],
   "source": []
  }
 ],
 "metadata": {
  "kernelspec": {
   "display_name": "Python 3 (ipykernel)",
   "language": "python",
   "name": "python3"
  },
  "language_info": {
   "codemirror_mode": {
    "name": "ipython",
    "version": 3
   },
   "file_extension": ".py",
   "mimetype": "text/x-python",
   "name": "python",
   "nbconvert_exporter": "python",
   "pygments_lexer": "ipython3",
   "version": "3.10.9"
  }
 },
 "nbformat": 4,
 "nbformat_minor": 4
}
