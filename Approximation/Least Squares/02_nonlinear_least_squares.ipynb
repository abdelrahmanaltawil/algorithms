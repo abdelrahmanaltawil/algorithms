{
 "cells": [
  {
   "cell_type": "markdown",
   "metadata": {},
   "source": [
    "Non-linear Least Squares\n",
    "========"
   ]
  },
  {
   "cell_type": "markdown",
   "metadata": {},
   "source": [
    "# Theory\n",
    "**Least Squares (LS)** is a curve fitting method that is primarily estimate the parameters of a chosen model function to best approximate the general trend of a given data set.\n",
    "\n",
    "## Definition\n",
    "**Least Squares (LS)** strategy to estimate the model function parameters, that best fit the data; is to minimize the sum of the squares of the residuals (a residual being the error between the observed value provided by data and the fitted value provided by a model function).\n",
    "\n",
    "Formally, the minimization problem that **LS** presented is\n",
    "$$\n",
    "\\begin{equation}\n",
    "\\text{LS} := \\min \\sum_{i=1}^n r_i^2 \\qquad \\text{,where} \\quad r_i = \\hat{f}(\\mathbf{x}_i\\,, \\beta) - y_i\n",
    "\\end{equation}$$\n",
    "\n",
    "where for a data set of $n$ points $(\\mathbf{x}, y)$, a model function $(\\hat{f}(\\mathbf{x}, \\beta))$, and a residual (r). We want to find parameters $\\beta$ that minimize the sum of the squared residuals above.\n",
    "\n",
    "> To elaborate  more, **LS** method view the parameters $\\beta$ as the variables and $\\mathbf{x}$ data points as given constant weights in the model function, hence the minimization stepup would solve for $\\beta$. For this to work the number of data points $n$ has to be greater than or equal to the number of parameters of the model function.\n",
    "\n",
    "**Non-Linear Least Squares (LLS)** \n",
    "\n",
    "## Examples\n"
   ]
  },
  {
   "cell_type": "markdown",
   "metadata": {},
   "source": [
    "# Implementation\n"
   ]
  },
  {
   "cell_type": "markdown",
   "metadata": {},
   "source": [
    "## Imports"
   ]
  },
  {
   "cell_type": "code",
   "execution_count": 2,
   "metadata": {},
   "outputs": [],
   "source": [
    "import numpy as np\n",
    "import sympy as sp\n",
    "import pandas as pd\n",
    "from sympy.abc import x\n",
    "from typing import Callable\n",
    "import matplotlib.pyplot as plt"
   ]
  },
  {
   "cell_type": "markdown",
   "metadata": {},
   "source": [
    "## Parameters"
   ]
  },
  {
   "cell_type": "code",
   "execution_count": 44,
   "metadata": {},
   "outputs": [],
   "source": []
  },
  {
   "cell_type": "markdown",
   "metadata": {},
   "source": [
    "## Algorithm\n",
    "\n"
   ]
  },
  {
   "cell_type": "code",
   "execution_count": null,
   "metadata": {},
   "outputs": [],
   "source": [
    "def NLS(points: list[float, float], order: int =1) -> tuple[Callable, list[Callable]]:\n",
    "    '''\n",
    "    _summary_\n",
    "\n",
    "    Args:\n",
    "        points: _description_\n",
    "\n",
    "    Returns:\n",
    "        _description_\n",
    "    '''\n",
    "    \n",
    "    return "
   ]
  },
  {
   "cell_type": "markdown",
   "metadata": {},
   "source": [
    "## Results Visualization\n"
   ]
  },
  {
   "cell_type": "code",
   "execution_count": null,
   "metadata": {},
   "outputs": [],
   "source": []
  }
 ],
 "metadata": {
  "kernelspec": {
   "display_name": "Python 3",
   "language": "python",
   "name": "python3"
  },
  "language_info": {
   "codemirror_mode": {
    "name": "ipython",
    "version": 3
   },
   "file_extension": ".py",
   "mimetype": "text/x-python",
   "name": "python",
   "nbconvert_exporter": "python",
   "pygments_lexer": "ipython3",
   "version": "3.10.9"
  }
 },
 "nbformat": 4,
 "nbformat_minor": 2
}
