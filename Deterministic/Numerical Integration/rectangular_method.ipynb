{
 "cells": [
  {
   "cell_type": "markdown",
   "metadata": {},
   "source": [
    "# Theory\n",
    "\n",
    "## Definition\n",
    "\n",
    "\n",
    "## Examples\n"
   ]
  },
  {
   "cell_type": "markdown",
   "metadata": {},
   "source": [
    "# Implementation"
   ]
  },
  {
   "cell_type": "markdown",
   "metadata": {},
   "source": [
    "## Imports"
   ]
  },
  {
   "cell_type": "code",
   "execution_count": 46,
   "metadata": {},
   "outputs": [],
   "source": [
    "import numpy as np\n",
    "import sympy as sp\n",
    "import pandas as pd\n",
    "from sympy.abc import x\n",
    "from typing import Callable\n",
    "import matplotlib.pyplot as plt"
   ]
  },
  {
   "cell_type": "markdown",
   "metadata": {},
   "source": [
    "## Parameters"
   ]
  },
  {
   "cell_type": "code",
   "execution_count": 157,
   "metadata": {},
   "outputs": [],
   "source": [
    "N = 9               # number of points\n",
    "a, b = [0,2]\n",
    "func = x**3         # use sp. methods only \"i.e sp.cos()\""
   ]
  },
  {
   "cell_type": "markdown",
   "metadata": {},
   "source": [
    "## Algorithm\n"
   ]
  },
  {
   "cell_type": "code",
   "execution_count": 155,
   "metadata": {},
   "outputs": [],
   "source": [
    "def Rec(f: Callable, a: float, b: float, N: int, scheme: str=\"left\") -> float:\n",
    "    '''\n",
    "    Rectangular rule for approximation of definite integral of function `f` between range `a`,`b`\n",
    "\n",
    "    Args:\n",
    "        f: Function to approximate definite integration between [a,b]\n",
    "        a: Lower limit of integration interval\n",
    "        b: Upper limit of integration interval\n",
    "        N: Number of discretization points, where number of interval `subdivisions = N-1`\n",
    "        scheme: Rectangular rule scheme options are `left`, `right`, `midpoint`. Defaults to \"left\".\n",
    "\n",
    "    Returns:\n",
    "        Integration approximation of the function between the given range\n",
    "    '''\n",
    "    \n",
    "    if scheme == \"left\":\n",
    "        x = np.linspace(a, b-h, num=N)\n",
    "    elif scheme == \"right\":\n",
    "        x = np.linspace(a+h, b, num=N)    \n",
    "    elif scheme == \"midpoint\":\n",
    "        x = np.linspace(a+h/2, b-h/2, num=N)\n",
    "\n",
    "    return np.sum(f(x)*h)"
   ]
  },
  {
   "cell_type": "markdown",
   "metadata": {},
   "source": [
    "### Placeholder"
   ]
  },
  {
   "cell_type": "code",
   "execution_count": 59,
   "metadata": {},
   "outputs": [
    {
     "data": {
      "text/html": [
       "<div>\n",
       "<style scoped>\n",
       "    .dataframe tbody tr th:only-of-type {\n",
       "        vertical-align: middle;\n",
       "    }\n",
       "\n",
       "    .dataframe tbody tr th {\n",
       "        vertical-align: top;\n",
       "    }\n",
       "\n",
       "    .dataframe thead th {\n",
       "        text-align: right;\n",
       "    }\n",
       "</style>\n",
       "<table border=\"1\" class=\"dataframe\">\n",
       "  <thead>\n",
       "    <tr style=\"text-align: right;\">\n",
       "      <th></th>\n",
       "      <th>Property</th>\n",
       "      <th>Quantity</th>\n",
       "    </tr>\n",
       "  </thead>\n",
       "  <tbody>\n",
       "    <tr>\n",
       "      <th>0</th>\n",
       "      <td>analytical integration</td>\n",
       "      <td>1.416147</td>\n",
       "    </tr>\n",
       "    <tr>\n",
       "      <th>1</th>\n",
       "      <td>rectangular rule</td>\n",
       "      <td>1.416238</td>\n",
       "    </tr>\n",
       "  </tbody>\n",
       "</table>\n",
       "</div>"
      ],
      "text/plain": [
       "                 Property  Quantity\n",
       "0  analytical integration  1.416147\n",
       "1        rectangular rule  1.416238"
      ]
     },
     "execution_count": 59,
     "metadata": {},
     "output_type": "execute_result"
    }
   ],
   "source": [
    "# analytical integration\n",
    "func_int = sp.integrate(func)\n",
    "\n",
    "# parse expressions to lambda\n",
    "f = (lambda x : np.ones_like(x)*float(func)) if sp.simplify(func).is_constant() else sp.lambdify(x, func) \n",
    "f_int = sp.lambdify(x, func_int)\n",
    "\n",
    "# rectangular rule approximation\n",
    "f_int_Rec = Rec(f, domain, num_rec=10000)\n",
    "\n",
    "summary = [\n",
    "    (\"analytical integration\", f_int(domain[1]) - f_int(domain[0])),\n",
    "    (\"rectangular rule\", f_int_Rec)\n",
    "    ]\n",
    "\n",
    "pd.DataFrame(data=summary, columns=[\"Property\", \"Quantity\"])"
   ]
  }
 ],
 "metadata": {
  "kernelspec": {
   "display_name": "ML",
   "language": "python",
   "name": "python3"
  },
  "language_info": {
   "codemirror_mode": {
    "name": "ipython",
    "version": 3
   },
   "file_extension": ".py",
   "mimetype": "text/x-python",
   "name": "python",
   "nbconvert_exporter": "python",
   "pygments_lexer": "ipython3",
   "version": "3.10.9"
  }
 },
 "nbformat": 4,
 "nbformat_minor": 2
}
